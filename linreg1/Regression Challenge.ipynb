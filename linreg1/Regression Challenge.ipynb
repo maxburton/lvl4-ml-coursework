{
 "cells": [
  {
   "cell_type": "code",
   "execution_count": 17,
   "metadata": {},
   "outputs": [],
   "source": [
    "from sklearn import linear_model\n",
    "import numpy as np\n",
    "import pandas as pd\n",
    "import matplotlib.pyplot as plt\n",
    "x_train=pd.read_csv('../X_train.csv', sep=',')\n",
    "y_train=pd.read_csv('../y_train.csv', sep=',')\n",
    "x_test=pd.read_csv('../X_test.csv', sep=',')\n"
   ]
  },
  {
   "cell_type": "code",
   "execution_count": 18,
   "metadata": {
    "scrolled": true
   },
   "outputs": [
    {
     "name": "stdout",
     "output_type": "stream",
     "text": [
      "MYCT     0.127228\n",
      "MMIN     0.088548\n",
      "MMAX     0.180137\n",
      "CACH     0.095192\n",
      "CHMIN    0.082418\n",
      "CHMAX    0.093885\n",
      "dtype: float64\n",
      "MYCT     0.120849\n",
      "MMIN     0.084737\n",
      "MMAX     0.197273\n",
      "CACH     0.111852\n",
      "CHMIN    0.122889\n",
      "CHMAX    0.144401\n",
      "dtype: float64\n",
      "Id     0.500000\n",
      "PRP    0.084034\n",
      "dtype: float64\n",
      "MYCT     0.181251\n",
      "MMIN     0.123906\n",
      "MMAX     0.179556\n",
      "CACH     0.151841\n",
      "CHMIN    0.116951\n",
      "CHMAX    0.121372\n",
      "dtype: float64\n",
      "MYCT     0.151550\n",
      "MMIN     0.112230\n",
      "MMAX     0.200200\n",
      "CACH     0.185713\n",
      "CHMIN    0.175774\n",
      "CHMAX    0.223278\n",
      "dtype: float64\n",
      "Id     0.291267\n",
      "PRP    0.132929\n",
      "dtype: float64\n"
     ]
    }
   ],
   "source": [
    "# Scale data MinMax\n",
    "\n",
    "from sklearn.preprocessing import StandardScaler, MinMaxScaler\n",
    "scaler_x = MinMaxScaler()\n",
    "scaler_x = scaler_x.fit(x_train)  # Don't cheat - fit only on training data\n",
    "x_train = scaler_x.transform(x_train)\n",
    "x_test = scaler_x.transform(x_test)  # apply same transformation to test data\n",
    "\n",
    "scaler_y = MinMaxScaler()\n",
    "scaler_y = scaler_y.fit(y_train)\n",
    "y_train = scaler_y.transform(y_train)\n",
    "\n",
    "columns = [\"MYCT\", \"MMIN\", \"MMAX\", \"CACH\", \"CHMIN\", \"CHMAX\"]\n",
    "x_train = pd.DataFrame(x_train, columns=columns)\n",
    "x_test = pd.DataFrame(x_test, columns=columns)\n",
    "columns = [\"Id\", \"PRP\"]\n",
    "y_train = pd.DataFrame(y_train, columns=columns)\n",
    "\n",
    "print(x_train.mean(axis = 0))\n",
    "print(x_test.mean(axis = 0))\n",
    "print(y_train.mean(axis = 0))\n",
    "print(x_train.std(axis = 0))\n",
    "print(x_test.std(axis = 0))\n",
    "print(y_train.std(axis = 0))"
   ]
  },
  {
   "cell_type": "code",
   "execution_count": 6,
   "metadata": {},
   "outputs": [
    {
     "name": "stdout",
     "output_type": "stream",
     "text": [
      "MYCT    -9.251859e-18\n",
      "MMIN     7.203233e-17\n",
      "MMAX    -1.698377e-16\n",
      "CACH    -3.568574e-17\n",
      "CHMIN   -1.539774e-16\n",
      "CHMAX   -3.898998e-17\n",
      "dtype: float64\n",
      "MYCT    -0.035296\n",
      "MMIN    -0.030850\n",
      "MMAX     0.095726\n",
      "CACH     0.110052\n",
      "CHMIN    0.347093\n",
      "CHMAX    0.417453\n",
      "dtype: float64\n",
      "Id     1.837155e-16\n",
      "PRP    1.420821e-17\n",
      "dtype: float64\n",
      "MYCT     1.00299\n",
      "MMIN     1.00299\n",
      "MMAX     1.00299\n",
      "CACH     1.00299\n",
      "CHMIN    1.00299\n",
      "CHMAX    1.00299\n",
      "dtype: float64\n",
      "MYCT     0.838634\n",
      "MMIN     0.908479\n",
      "MMAX     1.118306\n",
      "CACH     1.226731\n",
      "CHMIN    1.507469\n",
      "CHMAX    1.845120\n",
      "dtype: float64\n",
      "Id     1.00299\n",
      "PRP    1.00299\n",
      "dtype: float64\n"
     ]
    }
   ],
   "source": [
    "# Scale data standard\n",
    "\n",
    "from sklearn.preprocessing import StandardScaler, MinMaxScaler\n",
    "scaler_x = StandardScaler()\n",
    "scaler_x = scaler_x.fit(x_train)  # Don't cheat - fit only on training data\n",
    "x_train = scaler_x.transform(x_train)\n",
    "x_test = scaler_x.transform(x_test)  # apply same transformation to test data\n",
    "\n",
    "scaler_y = StandardScaler()\n",
    "scaler_y = scaler_y.fit(y_train)\n",
    "y_train = scaler_y.transform(y_train)\n",
    "\n",
    "columns = [\"MYCT\", \"MMIN\", \"MMAX\", \"CACH\", \"CHMIN\", \"CHMAX\"]\n",
    "x_train = pd.DataFrame(x_train, columns=columns)\n",
    "x_test = pd.DataFrame(x_test, columns=columns)\n",
    "columns = [\"Id\", \"PRP\"]\n",
    "y_train = pd.DataFrame(y_train, columns=columns)\n",
    "\n",
    "print(x_train.mean(axis = 0))\n",
    "print(x_test.mean(axis = 0))\n",
    "print(y_train.mean(axis = 0))\n",
    "print(x_train.std(axis = 0))\n",
    "print(x_test.std(axis = 0))\n",
    "print(y_train.std(axis = 0))"
   ]
  },
  {
   "cell_type": "code",
   "execution_count": 19,
   "metadata": {},
   "outputs": [],
   "source": [
    "# Initial empty prediction dataframe\n",
    "index = np.arange(len(x_test.iloc[:,0]))\n",
    "columns = [\"Id\"]\n",
    "rows = len(x_test.iloc[:,0])\n",
    "data = np.arange(rows, dtype=int)\n",
    "prediction = pd.DataFrame(data, columns=columns)"
   ]
  },
  {
   "cell_type": "code",
   "execution_count": 20,
   "metadata": {},
   "outputs": [
    {
     "name": "stdout",
     "output_type": "stream",
     "text": [
      "0       38\n",
      "1      208\n",
      "2       12\n",
      "3      307\n",
      "4       45\n",
      "5       45\n",
      "6       52\n",
      "7       20\n",
      "8       53\n",
      "9       25\n",
      "10      30\n",
      "11      38\n",
      "12     248\n",
      "13      71\n",
      "14     214\n",
      "15      36\n",
      "16      32\n",
      "17      36\n",
      "18      31\n",
      "19     134\n",
      "20      41\n",
      "21       8\n",
      "22     105\n",
      "23      24\n",
      "24     106\n",
      "25     133\n",
      "26      45\n",
      "27     367\n",
      "28       6\n",
      "29     198\n",
      "30      51\n",
      "31      20\n",
      "32     109\n",
      "33     237\n",
      "34      30\n",
      "35    1150\n",
      "36      18\n",
      "37     367\n",
      "38      21\n",
      "39      42\n",
      "40      51\n",
      "Name: PRP, dtype: int64\n",
      "0      30\n",
      "1     136\n",
      "2      34\n",
      "3     341\n",
      "4      44\n",
      "5      25\n",
      "6      74\n",
      "7      23\n",
      "8      50\n",
      "9      24\n",
      "10     33\n",
      "11     23\n",
      "12    275\n",
      "13     42\n",
      "14    151\n",
      "15     36\n",
      "16     28\n",
      "17     41\n",
      "18     22\n",
      "19    175\n",
      "20     67\n",
      "21     19\n",
      "22     48\n",
      "23     34\n",
      "24    138\n",
      "25    116\n",
      "26     80\n",
      "27    381\n",
      "28     19\n",
      "29    199\n",
      "30     80\n",
      "31     20\n",
      "32     53\n",
      "33    171\n",
      "34     35\n",
      "35    978\n",
      "36     18\n",
      "37    381\n",
      "38     35\n",
      "39     37\n",
      "40     80\n",
      "Name: ERP, dtype: int64\n"
     ]
    }
   ],
   "source": [
    "# Get real PRP values\n",
    "real_values=pd.read_csv('../machine.csv', sep=',')\n",
    "raw_test=pd.read_csv('../X_test.csv', sep=',')\n",
    "columns = [\"MYCT\", \"MMIN\", \"MMAX\", \"CACH\", \"CHMIN\", \"CHMAX\", \"PRP\", \"ERP\"]\n",
    "index = np.arange(len(raw_test))\n",
    "final = pd.DataFrame(index=index, columns=columns)\n",
    "\n",
    "for i in range(len(x_test)):\n",
    "    row = raw_test.loc[i]\n",
    "    MYCT = row[\"MYCT\"] == real_values[\"MYCT\"]\n",
    "    MMIN = row[\"MMIN\"] == real_values[\"MMIN\"]\n",
    "    MMAX = row[\"MMAX\"] == real_values[\"MMAX\"]\n",
    "    CACH = row[\"CACH\"] == real_values[\"CACH\"]\n",
    "    CHMIN = row[\"CHMIN\"] == real_values[\"CHMIN\"]\n",
    "    CHMAX = row[\"CHMAX\"] == real_values[\"CHMAX\"]\n",
    "    \n",
    "    new_final_row = real_values[MYCT&MMIN&MMAX&CACH&CHMIN&CHMAX]\n",
    "    if len(final) > 1:\n",
    "        new_final_row = new_final_row.iloc[0]\n",
    "    final.iloc[i] = new_final_row\n",
    "print(final[\"PRP\"])\n",
    "print(final[\"ERP\"])"
   ]
  },
  {
   "cell_type": "code",
   "execution_count": 7,
   "metadata": {},
   "outputs": [
    {
     "ename": "KeyError",
     "evalue": "'PRP'",
     "output_type": "error",
     "traceback": [
      "\u001b[1;31m---------------------------------------------------------------------------\u001b[0m",
      "\u001b[1;31mKeyError\u001b[0m                                  Traceback (most recent call last)",
      "\u001b[1;32m~\\Anaconda3\\lib\\site-packages\\pandas\\core\\indexes\\base.py\u001b[0m in \u001b[0;36mget_loc\u001b[1;34m(self, key, method, tolerance)\u001b[0m\n\u001b[0;32m   2896\u001b[0m             \u001b[1;32mtry\u001b[0m\u001b[1;33m:\u001b[0m\u001b[1;33m\u001b[0m\u001b[1;33m\u001b[0m\u001b[0m\n\u001b[1;32m-> 2897\u001b[1;33m                 \u001b[1;32mreturn\u001b[0m \u001b[0mself\u001b[0m\u001b[1;33m.\u001b[0m\u001b[0m_engine\u001b[0m\u001b[1;33m.\u001b[0m\u001b[0mget_loc\u001b[0m\u001b[1;33m(\u001b[0m\u001b[0mkey\u001b[0m\u001b[1;33m)\u001b[0m\u001b[1;33m\u001b[0m\u001b[1;33m\u001b[0m\u001b[0m\n\u001b[0m\u001b[0;32m   2898\u001b[0m             \u001b[1;32mexcept\u001b[0m \u001b[0mKeyError\u001b[0m\u001b[1;33m:\u001b[0m\u001b[1;33m\u001b[0m\u001b[1;33m\u001b[0m\u001b[0m\n",
      "\u001b[1;32mpandas\\_libs\\index.pyx\u001b[0m in \u001b[0;36mpandas._libs.index.IndexEngine.get_loc\u001b[1;34m()\u001b[0m\n",
      "\u001b[1;32mpandas\\_libs\\index.pyx\u001b[0m in \u001b[0;36mpandas._libs.index.IndexEngine.get_loc\u001b[1;34m()\u001b[0m\n",
      "\u001b[1;32mpandas\\_libs\\hashtable_class_helper.pxi\u001b[0m in \u001b[0;36mpandas._libs.hashtable.PyObjectHashTable.get_item\u001b[1;34m()\u001b[0m\n",
      "\u001b[1;32mpandas\\_libs\\hashtable_class_helper.pxi\u001b[0m in \u001b[0;36mpandas._libs.hashtable.PyObjectHashTable.get_item\u001b[1;34m()\u001b[0m\n",
      "\u001b[1;31mKeyError\u001b[0m: 'PRP'",
      "\nDuring handling of the above exception, another exception occurred:\n",
      "\u001b[1;31mKeyError\u001b[0m                                  Traceback (most recent call last)",
      "\u001b[1;32m<ipython-input-7-f6c324c9a32a>\u001b[0m in \u001b[0;36m<module>\u001b[1;34m\u001b[0m\n\u001b[0;32m     11\u001b[0m     \u001b[0mprint\u001b[0m\u001b[1;33m(\u001b[0m\u001b[0mrmse\u001b[0m\u001b[1;33m)\u001b[0m\u001b[1;33m\u001b[0m\u001b[1;33m\u001b[0m\u001b[0m\n\u001b[0;32m     12\u001b[0m     \u001b[1;32mreturn\u001b[0m \u001b[0mrmse\u001b[0m\u001b[1;33m\u001b[0m\u001b[1;33m\u001b[0m\u001b[0m\n\u001b[1;32m---> 13\u001b[1;33m \u001b[0mcalc_rmse\u001b[0m\u001b[1;33m(\u001b[0m\u001b[1;33m)\u001b[0m\u001b[1;33m\u001b[0m\u001b[1;33m\u001b[0m\u001b[0m\n\u001b[0m",
      "\u001b[1;32m<ipython-input-7-f6c324c9a32a>\u001b[0m in \u001b[0;36mcalc_rmse\u001b[1;34m()\u001b[0m\n\u001b[0;32m      6\u001b[0m \u001b[1;32mdef\u001b[0m \u001b[0mcalc_rmse\u001b[0m\u001b[1;33m(\u001b[0m\u001b[1;33m)\u001b[0m\u001b[1;33m:\u001b[0m\u001b[1;33m\u001b[0m\u001b[1;33m\u001b[0m\u001b[0m\n\u001b[0;32m      7\u001b[0m     \u001b[0mslice\u001b[0m \u001b[1;33m=\u001b[0m \u001b[1;36m12\u001b[0m\u001b[1;33m\u001b[0m\u001b[1;33m\u001b[0m\u001b[0m\n\u001b[1;32m----> 8\u001b[1;33m     \u001b[0mmse\u001b[0m \u001b[1;33m=\u001b[0m \u001b[0mmean_squared_error\u001b[0m\u001b[1;33m(\u001b[0m\u001b[0mfinal\u001b[0m\u001b[1;33m.\u001b[0m\u001b[0miloc\u001b[0m\u001b[1;33m[\u001b[0m\u001b[1;33m:\u001b[0m\u001b[1;33m]\u001b[0m\u001b[1;33m[\u001b[0m\u001b[1;34m\"PRP\"\u001b[0m\u001b[1;33m]\u001b[0m\u001b[1;33m,\u001b[0m \u001b[0mprediction\u001b[0m\u001b[1;33m.\u001b[0m\u001b[0miloc\u001b[0m\u001b[1;33m[\u001b[0m\u001b[1;33m:\u001b[0m\u001b[1;33m]\u001b[0m\u001b[1;33m[\u001b[0m\u001b[1;34m\"PRP\"\u001b[0m\u001b[1;33m]\u001b[0m\u001b[1;33m)\u001b[0m\u001b[1;33m\u001b[0m\u001b[1;33m\u001b[0m\u001b[0m\n\u001b[0m\u001b[0;32m      9\u001b[0m     \u001b[0mrmse\u001b[0m \u001b[1;33m=\u001b[0m \u001b[0msqrt\u001b[0m\u001b[1;33m(\u001b[0m\u001b[0mmse\u001b[0m\u001b[1;33m)\u001b[0m\u001b[1;33m\u001b[0m\u001b[1;33m\u001b[0m\u001b[0m\n\u001b[0;32m     10\u001b[0m \u001b[1;33m\u001b[0m\u001b[0m\n",
      "\u001b[1;32m~\\Anaconda3\\lib\\site-packages\\pandas\\core\\frame.py\u001b[0m in \u001b[0;36m__getitem__\u001b[1;34m(self, key)\u001b[0m\n\u001b[0;32m   2978\u001b[0m             \u001b[1;32mif\u001b[0m \u001b[0mself\u001b[0m\u001b[1;33m.\u001b[0m\u001b[0mcolumns\u001b[0m\u001b[1;33m.\u001b[0m\u001b[0mnlevels\u001b[0m \u001b[1;33m>\u001b[0m \u001b[1;36m1\u001b[0m\u001b[1;33m:\u001b[0m\u001b[1;33m\u001b[0m\u001b[1;33m\u001b[0m\u001b[0m\n\u001b[0;32m   2979\u001b[0m                 \u001b[1;32mreturn\u001b[0m \u001b[0mself\u001b[0m\u001b[1;33m.\u001b[0m\u001b[0m_getitem_multilevel\u001b[0m\u001b[1;33m(\u001b[0m\u001b[0mkey\u001b[0m\u001b[1;33m)\u001b[0m\u001b[1;33m\u001b[0m\u001b[1;33m\u001b[0m\u001b[0m\n\u001b[1;32m-> 2980\u001b[1;33m             \u001b[0mindexer\u001b[0m \u001b[1;33m=\u001b[0m \u001b[0mself\u001b[0m\u001b[1;33m.\u001b[0m\u001b[0mcolumns\u001b[0m\u001b[1;33m.\u001b[0m\u001b[0mget_loc\u001b[0m\u001b[1;33m(\u001b[0m\u001b[0mkey\u001b[0m\u001b[1;33m)\u001b[0m\u001b[1;33m\u001b[0m\u001b[1;33m\u001b[0m\u001b[0m\n\u001b[0m\u001b[0;32m   2981\u001b[0m             \u001b[1;32mif\u001b[0m \u001b[0mis_integer\u001b[0m\u001b[1;33m(\u001b[0m\u001b[0mindexer\u001b[0m\u001b[1;33m)\u001b[0m\u001b[1;33m:\u001b[0m\u001b[1;33m\u001b[0m\u001b[1;33m\u001b[0m\u001b[0m\n\u001b[0;32m   2982\u001b[0m                 \u001b[0mindexer\u001b[0m \u001b[1;33m=\u001b[0m \u001b[1;33m[\u001b[0m\u001b[0mindexer\u001b[0m\u001b[1;33m]\u001b[0m\u001b[1;33m\u001b[0m\u001b[1;33m\u001b[0m\u001b[0m\n",
      "\u001b[1;32m~\\Anaconda3\\lib\\site-packages\\pandas\\core\\indexes\\base.py\u001b[0m in \u001b[0;36mget_loc\u001b[1;34m(self, key, method, tolerance)\u001b[0m\n\u001b[0;32m   2897\u001b[0m                 \u001b[1;32mreturn\u001b[0m \u001b[0mself\u001b[0m\u001b[1;33m.\u001b[0m\u001b[0m_engine\u001b[0m\u001b[1;33m.\u001b[0m\u001b[0mget_loc\u001b[0m\u001b[1;33m(\u001b[0m\u001b[0mkey\u001b[0m\u001b[1;33m)\u001b[0m\u001b[1;33m\u001b[0m\u001b[1;33m\u001b[0m\u001b[0m\n\u001b[0;32m   2898\u001b[0m             \u001b[1;32mexcept\u001b[0m \u001b[0mKeyError\u001b[0m\u001b[1;33m:\u001b[0m\u001b[1;33m\u001b[0m\u001b[1;33m\u001b[0m\u001b[0m\n\u001b[1;32m-> 2899\u001b[1;33m                 \u001b[1;32mreturn\u001b[0m \u001b[0mself\u001b[0m\u001b[1;33m.\u001b[0m\u001b[0m_engine\u001b[0m\u001b[1;33m.\u001b[0m\u001b[0mget_loc\u001b[0m\u001b[1;33m(\u001b[0m\u001b[0mself\u001b[0m\u001b[1;33m.\u001b[0m\u001b[0m_maybe_cast_indexer\u001b[0m\u001b[1;33m(\u001b[0m\u001b[0mkey\u001b[0m\u001b[1;33m)\u001b[0m\u001b[1;33m)\u001b[0m\u001b[1;33m\u001b[0m\u001b[1;33m\u001b[0m\u001b[0m\n\u001b[0m\u001b[0;32m   2900\u001b[0m         \u001b[0mindexer\u001b[0m \u001b[1;33m=\u001b[0m \u001b[0mself\u001b[0m\u001b[1;33m.\u001b[0m\u001b[0mget_indexer\u001b[0m\u001b[1;33m(\u001b[0m\u001b[1;33m[\u001b[0m\u001b[0mkey\u001b[0m\u001b[1;33m]\u001b[0m\u001b[1;33m,\u001b[0m \u001b[0mmethod\u001b[0m\u001b[1;33m=\u001b[0m\u001b[0mmethod\u001b[0m\u001b[1;33m,\u001b[0m \u001b[0mtolerance\u001b[0m\u001b[1;33m=\u001b[0m\u001b[0mtolerance\u001b[0m\u001b[1;33m)\u001b[0m\u001b[1;33m\u001b[0m\u001b[1;33m\u001b[0m\u001b[0m\n\u001b[0;32m   2901\u001b[0m         \u001b[1;32mif\u001b[0m \u001b[0mindexer\u001b[0m\u001b[1;33m.\u001b[0m\u001b[0mndim\u001b[0m \u001b[1;33m>\u001b[0m \u001b[1;36m1\u001b[0m \u001b[1;32mor\u001b[0m \u001b[0mindexer\u001b[0m\u001b[1;33m.\u001b[0m\u001b[0msize\u001b[0m \u001b[1;33m>\u001b[0m \u001b[1;36m1\u001b[0m\u001b[1;33m:\u001b[0m\u001b[1;33m\u001b[0m\u001b[1;33m\u001b[0m\u001b[0m\n",
      "\u001b[1;32mpandas\\_libs\\index.pyx\u001b[0m in \u001b[0;36mpandas._libs.index.IndexEngine.get_loc\u001b[1;34m()\u001b[0m\n",
      "\u001b[1;32mpandas\\_libs\\index.pyx\u001b[0m in \u001b[0;36mpandas._libs.index.IndexEngine.get_loc\u001b[1;34m()\u001b[0m\n",
      "\u001b[1;32mpandas\\_libs\\hashtable_class_helper.pxi\u001b[0m in \u001b[0;36mpandas._libs.hashtable.PyObjectHashTable.get_item\u001b[1;34m()\u001b[0m\n",
      "\u001b[1;32mpandas\\_libs\\hashtable_class_helper.pxi\u001b[0m in \u001b[0;36mpandas._libs.hashtable.PyObjectHashTable.get_item\u001b[1;34m()\u001b[0m\n",
      "\u001b[1;31mKeyError\u001b[0m: 'PRP'"
     ]
    }
   ],
   "source": [
    "# Calculate MSE\n",
    "\n",
    "from sklearn.metrics import mean_squared_error\n",
    "from math import sqrt\n",
    "\n",
    "def calc_rmse():\n",
    "    slice = 12\n",
    "    mse = mean_squared_error(final.iloc[:][\"PRP\"], prediction.iloc[:][\"PRP\"])\n",
    "    rmse = sqrt(mse)\n",
    "\n",
    "    print(rmse)\n",
    "    return rmse\n",
    "calc_rmse()"
   ]
  },
  {
   "cell_type": "code",
   "execution_count": 9,
   "metadata": {},
   "outputs": [
    {
     "data": {
      "image/png": "[encoded data removed]",
      "text/plain": [
       "<Figure size 432x288 with 1 Axes>"
      ]
     },
     "metadata": {
      "needs_background": "light"
     },
     "output_type": "display_data"
    },
    {
     "data": {
      "image/png": "[encoded data removed]",
      "text/plain": [
       "<Figure size 432x288 with 1 Axes>"
      ]
     },
     "metadata": {
      "needs_background": "light"
     },
     "output_type": "display_data"
    },
    {
     "data": {
      "image/png": "[encoded data removed]",
      "text/plain": [
       "<Figure size 432x288 with 1 Axes>"
      ]
     },
     "metadata": {
      "needs_background": "light"
     },
     "output_type": "display_data"
    },
    {
     "data": {
      "image/png": "[encoded data removed]",
      "text/plain": [
       "<Figure size 432x288 with 1 Axes>"
      ]
     },
     "metadata": {
      "needs_background": "light"
     },
     "output_type": "display_data"
    },
    {
     "data": {
      "image/png": "[encoded data removed]",
      "text/plain": [
       "<Figure size 432x288 with 1 Axes>"
      ]
     },
     "metadata": {
      "needs_background": "light"
     },
     "output_type": "display_data"
    },
    {
     "data": {
      "image/png": "[encoded data removed]",
      "text/plain": [
       "<Figure size 432x288 with 1 Axes>"
      ]
     },
     "metadata": {
      "needs_background": "light"
     },
     "output_type": "display_data"
    }
   ],
   "source": [
    "# Checking for linearity\n",
    "\n",
    "plt.scatter(y_train['PRP'], x_train[\"MYCT\"], color='red')\n",
    "plt.title('MYCT vs PRP', fontsize=14)\n",
    "plt.xlabel('PRP', fontsize=14)\n",
    "plt.ylabel('MYCT', fontsize=14)\n",
    "plt.grid(True)\n",
    "plt.show()\n",
    "\n",
    "plt.scatter(y_train['PRP'], x_train[\"MMIN\"], color='red')\n",
    "plt.title('MMIN vs PRP', fontsize=14)\n",
    "plt.xlabel('PRP', fontsize=14)\n",
    "plt.ylabel('MMIN', fontsize=14)\n",
    "plt.grid(True)\n",
    "plt.show()\n",
    "\n",
    "plt.scatter(y_train['PRP'], x_train[\"MMAX\"], color='red')\n",
    "plt.title('MMAX vs PRP', fontsize=14)\n",
    "plt.xlabel('PRP', fontsize=14)\n",
    "plt.ylabel('MMAX', fontsize=14)\n",
    "plt.grid(True)\n",
    "plt.show()\n",
    "\n",
    "plt.scatter(y_train['PRP'], x_train[\"CACH\"], color='red')\n",
    "plt.title('CACH vs PRP', fontsize=14)\n",
    "plt.xlabel('PRP', fontsize=14)\n",
    "plt.ylabel('CACH', fontsize=14)\n",
    "plt.grid(True)\n",
    "plt.show()\n",
    "\n",
    "plt.scatter(y_train['PRP'], x_train[\"CHMIN\"], color='red')\n",
    "plt.title('CHMIN vs PRP', fontsize=14)\n",
    "plt.xlabel('PRP', fontsize=14)\n",
    "plt.ylabel('CHMIN', fontsize=14)\n",
    "plt.grid(True)\n",
    "plt.show()\n",
    "\n",
    "plt.scatter(y_train['PRP'], x_train[\"CHMAX\"], color='red')\n",
    "plt.title('CHMAX vs PRP', fontsize=14)\n",
    "plt.xlabel('PRP', fontsize=14)\n",
    "plt.ylabel('CHMAX', fontsize=14)\n",
    "plt.grid(True)\n",
    "plt.show()"
   ]
  },
  {
   "cell_type": "code",
   "execution_count": 22,
   "metadata": {},
   "outputs": [
    {
     "data": {
      "image/png": "[encoded data removed]",
      "text/plain": [
       "<Figure size 432x288 with 1 Axes>"
      ]
     },
     "metadata": {
      "needs_background": "light"
     },
     "output_type": "display_data"
    },
    {
     "data": {
      "image/png": "[encoded data removed]",
      "text/plain": [
       "<Figure size 432x288 with 1 Axes>"
      ]
     },
     "metadata": {
      "needs_background": "light"
     },
     "output_type": "display_data"
    },
    {
     "data": {
      "image/png": "[encoded data removed]",
      "text/plain": [
       "<Figure size 432x288 with 1 Axes>"
      ]
     },
     "metadata": {
      "needs_background": "light"
     },
     "output_type": "display_data"
    },
    {
     "data": {
      "image/png": "[encoded data removed]",
      "text/plain": [
       "<Figure size 432x288 with 1 Axes>"
      ]
     },
     "metadata": {
      "needs_background": "light"
     },
     "output_type": "display_data"
    },
    {
     "data": {
      "image/png": "[encoded data removed]",
      "text/plain": [
       "<Figure size 432x288 with 1 Axes>"
      ]
     },
     "metadata": {
      "needs_background": "light"
     },
     "output_type": "display_data"
    },
    {
     "data": {
      "image/png": "[encoded data removed]",
      "text/plain": [
       "<Figure size 432x288 with 1 Axes>"
      ]
     },
     "metadata": {
      "needs_background": "light"
     },
     "output_type": "display_data"
    }
   ],
   "source": [
    "# Estimated PRP\n",
    "\n",
    "plt.scatter(prediction['PRP'], x_test[\"MYCT\"], color='blue')\n",
    "plt.title('MYCT vs PRP estimate', fontsize=14)\n",
    "plt.xlabel('PRP', fontsize=14)\n",
    "plt.ylabel('MYCT', fontsize=14)\n",
    "plt.grid(True)\n",
    "plt.show()\n",
    "\n",
    "plt.scatter(prediction['PRP'], x_test[\"MMIN\"], color='blue')\n",
    "plt.title('MMIN vs PRP estimate', fontsize=14)\n",
    "plt.xlabel('PRP', fontsize=14)\n",
    "plt.ylabel('MMIN', fontsize=14)\n",
    "plt.grid(True)\n",
    "plt.show()\n",
    "\n",
    "plt.scatter(prediction['PRP'], x_test[\"MMAX\"], color='blue')\n",
    "plt.title('MMAX vs PRP estimate', fontsize=14)\n",
    "plt.xlabel('PRP', fontsize=14)\n",
    "plt.ylabel('MMAX', fontsize=14)\n",
    "plt.grid(True)\n",
    "plt.show()\n",
    "\n",
    "plt.scatter(prediction['PRP'], x_test[\"CACH\"], color='blue')\n",
    "plt.title('CACH vs PRP estimate', fontsize=14)\n",
    "plt.xlabel('PRP', fontsize=14)\n",
    "plt.ylabel('CACH', fontsize=14)\n",
    "plt.grid(True)\n",
    "plt.show()\n",
    "\n",
    "plt.scatter(prediction['PRP'], x_test[\"CHMIN\"], color='blue')\n",
    "plt.title('CHMIN vs PRP estimate', fontsize=14)\n",
    "plt.xlabel('PRP', fontsize=14)\n",
    "plt.ylabel('CHMIN', fontsize=14)\n",
    "plt.grid(True)\n",
    "plt.show()\n",
    "\n",
    "plt.scatter(prediction['PRP'], x_test[\"CHMAX\"], color='blue')\n",
    "plt.title('CHMAX vs PRP estimate', fontsize=14)\n",
    "plt.xlabel('PRP', fontsize=14)\n",
    "plt.ylabel('CHMAX', fontsize=14)\n",
    "plt.grid(True)\n",
    "plt.show()"
   ]
  },
  {
   "cell_type": "code",
   "execution_count": 10,
   "metadata": {},
   "outputs": [
    {
     "ename": "KeyError",
     "evalue": "'PRP'",
     "output_type": "error",
     "traceback": [
      "\u001b[1;31m---------------------------------------------------------------------------\u001b[0m",
      "\u001b[1;31mKeyError\u001b[0m                                  Traceback (most recent call last)",
      "\u001b[1;32m~\\Anaconda3\\lib\\site-packages\\pandas\\core\\indexes\\base.py\u001b[0m in \u001b[0;36mget_loc\u001b[1;34m(self, key, method, tolerance)\u001b[0m\n\u001b[0;32m   2896\u001b[0m             \u001b[1;32mtry\u001b[0m\u001b[1;33m:\u001b[0m\u001b[1;33m\u001b[0m\u001b[1;33m\u001b[0m\u001b[0m\n\u001b[1;32m-> 2897\u001b[1;33m                 \u001b[1;32mreturn\u001b[0m \u001b[0mself\u001b[0m\u001b[1;33m.\u001b[0m\u001b[0m_engine\u001b[0m\u001b[1;33m.\u001b[0m\u001b[0mget_loc\u001b[0m\u001b[1;33m(\u001b[0m\u001b[0mkey\u001b[0m\u001b[1;33m)\u001b[0m\u001b[1;33m\u001b[0m\u001b[1;33m\u001b[0m\u001b[0m\n\u001b[0m\u001b[0;32m   2898\u001b[0m             \u001b[1;32mexcept\u001b[0m \u001b[0mKeyError\u001b[0m\u001b[1;33m:\u001b[0m\u001b[1;33m\u001b[0m\u001b[1;33m\u001b[0m\u001b[0m\n",
      "\u001b[1;32mpandas\\_libs\\index.pyx\u001b[0m in \u001b[0;36mpandas._libs.index.IndexEngine.get_loc\u001b[1;34m()\u001b[0m\n",
      "\u001b[1;32mpandas\\_libs\\index.pyx\u001b[0m in \u001b[0;36mpandas._libs.index.IndexEngine.get_loc\u001b[1;34m()\u001b[0m\n",
      "\u001b[1;32mpandas\\_libs\\hashtable_class_helper.pxi\u001b[0m in \u001b[0;36mpandas._libs.hashtable.PyObjectHashTable.get_item\u001b[1;34m()\u001b[0m\n",
      "\u001b[1;32mpandas\\_libs\\hashtable_class_helper.pxi\u001b[0m in \u001b[0;36mpandas._libs.hashtable.PyObjectHashTable.get_item\u001b[1;34m()\u001b[0m\n",
      "\u001b[1;31mKeyError\u001b[0m: 'PRP'",
      "\nDuring handling of the above exception, another exception occurred:\n",
      "\u001b[1;31mKeyError\u001b[0m                                  Traceback (most recent call last)",
      "\u001b[1;32m<ipython-input-10-d4e0698091f8>\u001b[0m in \u001b[0;36m<module>\u001b[1;34m\u001b[0m\n\u001b[0;32m      1\u001b[0m \u001b[1;31m# Train data vs test data\u001b[0m\u001b[1;33m\u001b[0m\u001b[1;33m\u001b[0m\u001b[1;33m\u001b[0m\u001b[0m\n\u001b[0;32m      2\u001b[0m \u001b[1;33m\u001b[0m\u001b[0m\n\u001b[1;32m----> 3\u001b[1;33m \u001b[0mplt\u001b[0m\u001b[1;33m.\u001b[0m\u001b[0mscatter\u001b[0m\u001b[1;33m(\u001b[0m\u001b[0mprediction\u001b[0m\u001b[1;33m[\u001b[0m\u001b[1;34m'PRP'\u001b[0m\u001b[1;33m]\u001b[0m\u001b[1;33m,\u001b[0m \u001b[0mx_test\u001b[0m\u001b[1;33m[\u001b[0m\u001b[1;34m\"CHMAX\"\u001b[0m\u001b[1;33m]\u001b[0m\u001b[1;33m,\u001b[0m \u001b[0mcolor\u001b[0m\u001b[1;33m=\u001b[0m\u001b[1;34m'blue'\u001b[0m\u001b[1;33m,\u001b[0m \u001b[0malpha\u001b[0m\u001b[1;33m=\u001b[0m\u001b[1;36m0.3\u001b[0m\u001b[1;33m)\u001b[0m\u001b[1;33m\u001b[0m\u001b[1;33m\u001b[0m\u001b[0m\n\u001b[0m\u001b[0;32m      4\u001b[0m \u001b[0mplt\u001b[0m\u001b[1;33m.\u001b[0m\u001b[0mscatter\u001b[0m\u001b[1;33m(\u001b[0m\u001b[0mscaler_y\u001b[0m\u001b[1;33m.\u001b[0m\u001b[0minverse_transform\u001b[0m\u001b[1;33m(\u001b[0m\u001b[0my_train\u001b[0m\u001b[1;33m)\u001b[0m\u001b[1;33m[\u001b[0m\u001b[1;33m:\u001b[0m\u001b[1;33m,\u001b[0m\u001b[1;36m1\u001b[0m\u001b[1;33m]\u001b[0m\u001b[1;33m,\u001b[0m \u001b[0mx_train\u001b[0m\u001b[1;33m[\u001b[0m\u001b[1;34m\"CHMAX\"\u001b[0m\u001b[1;33m]\u001b[0m\u001b[1;33m,\u001b[0m \u001b[0mcolor\u001b[0m\u001b[1;33m=\u001b[0m\u001b[1;34m'red'\u001b[0m\u001b[1;33m,\u001b[0m \u001b[0malpha\u001b[0m\u001b[1;33m=\u001b[0m\u001b[1;36m0.1\u001b[0m\u001b[1;33m)\u001b[0m\u001b[1;33m\u001b[0m\u001b[1;33m\u001b[0m\u001b[0m\n\u001b[0;32m      5\u001b[0m \u001b[0mplt\u001b[0m\u001b[1;33m.\u001b[0m\u001b[0mtitle\u001b[0m\u001b[1;33m(\u001b[0m\u001b[1;34m'CHMAX vs PRP estimate'\u001b[0m\u001b[1;33m,\u001b[0m \u001b[0mfontsize\u001b[0m\u001b[1;33m=\u001b[0m\u001b[1;36m14\u001b[0m\u001b[1;33m)\u001b[0m\u001b[1;33m\u001b[0m\u001b[1;33m\u001b[0m\u001b[0m\n",
      "\u001b[1;32m~\\Anaconda3\\lib\\site-packages\\pandas\\core\\frame.py\u001b[0m in \u001b[0;36m__getitem__\u001b[1;34m(self, key)\u001b[0m\n\u001b[0;32m   2978\u001b[0m             \u001b[1;32mif\u001b[0m \u001b[0mself\u001b[0m\u001b[1;33m.\u001b[0m\u001b[0mcolumns\u001b[0m\u001b[1;33m.\u001b[0m\u001b[0mnlevels\u001b[0m \u001b[1;33m>\u001b[0m \u001b[1;36m1\u001b[0m\u001b[1;33m:\u001b[0m\u001b[1;33m\u001b[0m\u001b[1;33m\u001b[0m\u001b[0m\n\u001b[0;32m   2979\u001b[0m                 \u001b[1;32mreturn\u001b[0m \u001b[0mself\u001b[0m\u001b[1;33m.\u001b[0m\u001b[0m_getitem_multilevel\u001b[0m\u001b[1;33m(\u001b[0m\u001b[0mkey\u001b[0m\u001b[1;33m)\u001b[0m\u001b[1;33m\u001b[0m\u001b[1;33m\u001b[0m\u001b[0m\n\u001b[1;32m-> 2980\u001b[1;33m             \u001b[0mindexer\u001b[0m \u001b[1;33m=\u001b[0m \u001b[0mself\u001b[0m\u001b[1;33m.\u001b[0m\u001b[0mcolumns\u001b[0m\u001b[1;33m.\u001b[0m\u001b[0mget_loc\u001b[0m\u001b[1;33m(\u001b[0m\u001b[0mkey\u001b[0m\u001b[1;33m)\u001b[0m\u001b[1;33m\u001b[0m\u001b[1;33m\u001b[0m\u001b[0m\n\u001b[0m\u001b[0;32m   2981\u001b[0m             \u001b[1;32mif\u001b[0m \u001b[0mis_integer\u001b[0m\u001b[1;33m(\u001b[0m\u001b[0mindexer\u001b[0m\u001b[1;33m)\u001b[0m\u001b[1;33m:\u001b[0m\u001b[1;33m\u001b[0m\u001b[1;33m\u001b[0m\u001b[0m\n\u001b[0;32m   2982\u001b[0m                 \u001b[0mindexer\u001b[0m \u001b[1;33m=\u001b[0m \u001b[1;33m[\u001b[0m\u001b[0mindexer\u001b[0m\u001b[1;33m]\u001b[0m\u001b[1;33m\u001b[0m\u001b[1;33m\u001b[0m\u001b[0m\n",
      "\u001b[1;32m~\\Anaconda3\\lib\\site-packages\\pandas\\core\\indexes\\base.py\u001b[0m in \u001b[0;36mget_loc\u001b[1;34m(self, key, method, tolerance)\u001b[0m\n\u001b[0;32m   2897\u001b[0m                 \u001b[1;32mreturn\u001b[0m \u001b[0mself\u001b[0m\u001b[1;33m.\u001b[0m\u001b[0m_engine\u001b[0m\u001b[1;33m.\u001b[0m\u001b[0mget_loc\u001b[0m\u001b[1;33m(\u001b[0m\u001b[0mkey\u001b[0m\u001b[1;33m)\u001b[0m\u001b[1;33m\u001b[0m\u001b[1;33m\u001b[0m\u001b[0m\n\u001b[0;32m   2898\u001b[0m             \u001b[1;32mexcept\u001b[0m \u001b[0mKeyError\u001b[0m\u001b[1;33m:\u001b[0m\u001b[1;33m\u001b[0m\u001b[1;33m\u001b[0m\u001b[0m\n\u001b[1;32m-> 2899\u001b[1;33m                 \u001b[1;32mreturn\u001b[0m \u001b[0mself\u001b[0m\u001b[1;33m.\u001b[0m\u001b[0m_engine\u001b[0m\u001b[1;33m.\u001b[0m\u001b[0mget_loc\u001b[0m\u001b[1;33m(\u001b[0m\u001b[0mself\u001b[0m\u001b[1;33m.\u001b[0m\u001b[0m_maybe_cast_indexer\u001b[0m\u001b[1;33m(\u001b[0m\u001b[0mkey\u001b[0m\u001b[1;33m)\u001b[0m\u001b[1;33m)\u001b[0m\u001b[1;33m\u001b[0m\u001b[1;33m\u001b[0m\u001b[0m\n\u001b[0m\u001b[0;32m   2900\u001b[0m         \u001b[0mindexer\u001b[0m \u001b[1;33m=\u001b[0m \u001b[0mself\u001b[0m\u001b[1;33m.\u001b[0m\u001b[0mget_indexer\u001b[0m\u001b[1;33m(\u001b[0m\u001b[1;33m[\u001b[0m\u001b[0mkey\u001b[0m\u001b[1;33m]\u001b[0m\u001b[1;33m,\u001b[0m \u001b[0mmethod\u001b[0m\u001b[1;33m=\u001b[0m\u001b[0mmethod\u001b[0m\u001b[1;33m,\u001b[0m \u001b[0mtolerance\u001b[0m\u001b[1;33m=\u001b[0m\u001b[0mtolerance\u001b[0m\u001b[1;33m)\u001b[0m\u001b[1;33m\u001b[0m\u001b[1;33m\u001b[0m\u001b[0m\n\u001b[0;32m   2901\u001b[0m         \u001b[1;32mif\u001b[0m \u001b[0mindexer\u001b[0m\u001b[1;33m.\u001b[0m\u001b[0mndim\u001b[0m \u001b[1;33m>\u001b[0m \u001b[1;36m1\u001b[0m \u001b[1;32mor\u001b[0m \u001b[0mindexer\u001b[0m\u001b[1;33m.\u001b[0m\u001b[0msize\u001b[0m \u001b[1;33m>\u001b[0m \u001b[1;36m1\u001b[0m\u001b[1;33m:\u001b[0m\u001b[1;33m\u001b[0m\u001b[1;33m\u001b[0m\u001b[0m\n",
      "\u001b[1;32mpandas\\_libs\\index.pyx\u001b[0m in \u001b[0;36mpandas._libs.index.IndexEngine.get_loc\u001b[1;34m()\u001b[0m\n",
      "\u001b[1;32mpandas\\_libs\\index.pyx\u001b[0m in \u001b[0;36mpandas._libs.index.IndexEngine.get_loc\u001b[1;34m()\u001b[0m\n",
      "\u001b[1;32mpandas\\_libs\\hashtable_class_helper.pxi\u001b[0m in \u001b[0;36mpandas._libs.hashtable.PyObjectHashTable.get_item\u001b[1;34m()\u001b[0m\n",
      "\u001b[1;32mpandas\\_libs\\hashtable_class_helper.pxi\u001b[0m in \u001b[0;36mpandas._libs.hashtable.PyObjectHashTable.get_item\u001b[1;34m()\u001b[0m\n",
      "\u001b[1;31mKeyError\u001b[0m: 'PRP'"
     ]
    }
   ],
   "source": [
    "# Train data vs test data\n",
    "\n",
    "plt.scatter(prediction['PRP'], x_test[\"CHMAX\"], color='blue', alpha=0.3)\n",
    "plt.scatter(scaler_y.inverse_transform(y_train)[:,1], x_train[\"CHMAX\"], color='red', alpha=0.1)\n",
    "plt.title('CHMAX vs PRP estimate', fontsize=14)\n",
    "plt.xlabel('PRP', fontsize=14)\n",
    "plt.ylabel('CHMAX', fontsize=14)\n",
    "plt.grid(True)\n",
    "plt.show()"
   ]
  },
  {
   "cell_type": "code",
   "execution_count": null,
   "metadata": {},
   "outputs": [],
   "source": [
    "# Linear least squares\n",
    "reg = linear_model.LinearRegression()\n",
    "reg.fit(x_train, y_train[\"PRP\"])\n",
    "\n",
    "#data = np.zeros(rows) + reg.intercept_\n",
    "#for i in range(len(reg.coef_)):\n",
    "#    data += reg.coef_[i]*x_test.iloc[:,i]\n",
    "#prediction[\"PRP\"] = np.around(data).astype(int)\n",
    "prediction[\"PRP\"] = np.around(reg.predict(x_test)).astype(int)\n",
    "print(prediction.to_string(index=False))\n",
    "prediction.to_csv(\"lls_results.csv\", index=False)\n"
   ]
  },
  {
   "cell_type": "code",
   "execution_count": null,
   "metadata": {},
   "outputs": [],
   "source": [
    "# Linear least squares w/o MYCT\n",
    "reg = linear_model.LinearRegression()\n",
    "reg.fit(x_train.iloc[:,1:], y_train[\"PRP\"])\n",
    "\n",
    "#data = np.zeros(rows) + reg.intercept_\n",
    "#for i in range(len(reg.coef_)):\n",
    "#    data += reg.coef_[i]*x_test.iloc[:,i]\n",
    "#prediction[\"PRP\"] = np.around(data).astype(int)\n",
    "prediction[\"PRP\"] = np.around(reg.predict(x_test.iloc[:,1:])).astype(int)\n",
    "print(prediction.to_string(index=False))\n",
    "prediction.to_csv(\"lls_wo_results.csv\", index=False)\n"
   ]
  },
  {
   "cell_type": "code",
   "execution_count": 1,
   "metadata": {},
   "outputs": [
    {
     "ename": "NameError",
     "evalue": "name 'linear_model' is not defined",
     "output_type": "error",
     "traceback": [
      "\u001b[1;31m---------------------------------------------------------------------------\u001b[0m",
      "\u001b[1;31mNameError\u001b[0m                                 Traceback (most recent call last)",
      "\u001b[1;32m<ipython-input-1-1124dde0c1c6>\u001b[0m in \u001b[0;36m<module>\u001b[1;34m\u001b[0m\n\u001b[0;32m      1\u001b[0m \u001b[1;31m# Ridge Regression\u001b[0m\u001b[1;33m\u001b[0m\u001b[1;33m\u001b[0m\u001b[1;33m\u001b[0m\u001b[0m\n\u001b[1;32m----> 2\u001b[1;33m \u001b[0mreg\u001b[0m \u001b[1;33m=\u001b[0m \u001b[0mlinear_model\u001b[0m\u001b[1;33m.\u001b[0m\u001b[0mRidgeCV\u001b[0m\u001b[1;33m(\u001b[0m\u001b[1;33m)\u001b[0m\u001b[1;33m\u001b[0m\u001b[1;33m\u001b[0m\u001b[0m\n\u001b[0m\u001b[0;32m      3\u001b[0m \u001b[0mreg\u001b[0m\u001b[1;33m.\u001b[0m\u001b[0mfit\u001b[0m\u001b[1;33m(\u001b[0m\u001b[0mx_train\u001b[0m\u001b[1;33m,\u001b[0m \u001b[0my_train\u001b[0m\u001b[1;33m[\u001b[0m\u001b[1;34m\"PRP\"\u001b[0m\u001b[1;33m]\u001b[0m\u001b[1;33m)\u001b[0m\u001b[1;33m\u001b[0m\u001b[1;33m\u001b[0m\u001b[0m\n\u001b[0;32m      4\u001b[0m \u001b[0mprint\u001b[0m\u001b[1;33m(\u001b[0m\u001b[0mreg\u001b[0m\u001b[1;33m.\u001b[0m\u001b[0mscore\u001b[0m\u001b[1;33m(\u001b[0m\u001b[0mx_train\u001b[0m\u001b[1;33m,\u001b[0m \u001b[0my_train\u001b[0m\u001b[1;33m[\u001b[0m\u001b[1;34m\"PRP\"\u001b[0m\u001b[1;33m]\u001b[0m\u001b[1;33m)\u001b[0m\u001b[1;33m)\u001b[0m\u001b[1;33m\u001b[0m\u001b[1;33m\u001b[0m\u001b[0m\n\u001b[0;32m      5\u001b[0m \u001b[1;33m\u001b[0m\u001b[0m\n",
      "\u001b[1;31mNameError\u001b[0m: name 'linear_model' is not defined"
     ]
    }
   ],
   "source": [
    "# Ridge Regression\n",
    "reg = linear_model.RidgeCV()\n",
    "reg.fit(x_train, y_train[\"PRP\"])\n",
    "print(reg.score(x_train, y_train[\"PRP\"]))\n",
    "\n",
    "prediction[\"PRP\"] = np.around(reg.predict(x_test)).astype(int)\n",
    "print(prediction.to_string(index=False))\n",
    "prediction.to_csv(\"rr_results.csv\", index=False)\n"
   ]
  },
  {
   "cell_type": "code",
   "execution_count": 35,
   "metadata": {},
   "outputs": [
    {
     "name": "stdout",
     "output_type": "stream",
     "text": [
      " Id  PRP\n",
      "  0    0\n",
      "  1    0\n",
      "  2   12\n",
      "  3    0\n",
      "  4    0\n",
      "  5    0\n",
      "  6   30\n",
      "  7    0\n",
      "  8    0\n",
      "  9    0\n",
      " 10    0\n",
      " 11    0\n",
      " 12    0\n",
      " 13    0\n",
      " 14    0\n",
      " 15    0\n",
      " 16    0\n",
      " 17    0\n",
      " 18    0\n",
      " 19    0\n",
      " 20    0\n",
      " 21    0\n",
      " 22    0\n",
      " 23    0\n",
      " 24    0\n",
      " 25    0\n",
      " 26    0\n",
      " 27    0\n",
      " 28    0\n",
      " 29    0\n",
      " 30    0\n",
      " 31    0\n",
      " 32    0\n",
      " 33    0\n",
      " 34    0\n",
      " 35    0\n",
      " 36    0\n",
      " 37    0\n",
      " 38    0\n",
      " 39    0\n",
      " 40    0\n"
     ]
    }
   ],
   "source": [
    "# Kernel Ridge Regression\n",
    "from sklearn.kernel_ridge import KernelRidge\n",
    "\n",
    "reg = KernelRidge(alpha=1.0, kernel=\"rbf\", gamma=10000)\n",
    "reg.fit(x_train, y_train[\"PRP\"])\n",
    "\n",
    "prediction[\"PRP\"] = np.around(reg.predict(x_test)).astype(int)\n",
    "print(prediction.to_string(index=False))\n",
    "prediction.to_csv(\"krr_results.csv\", index=False)"
   ]
  },
  {
   "cell_type": "code",
   "execution_count": null,
   "metadata": {},
   "outputs": [],
   "source": [
    "# Polynomial Ridge Regression\n",
    "from sklearn.preprocessing import PolynomialFeatures\n",
    "\n",
    "poly = PolynomialFeatures(degree=1)\n",
    "X_ = poly.fit_transform(x_train)\n",
    "predict_ = poly.fit_transform(x_test)\n",
    "\n",
    "clf = linear_model.RidgeCV()\n",
    "clf.fit(X_, y_train[\"PRP\"])\n",
    "print(clf.predict(predict_))\n",
    "\n",
    "\n",
    "prediction[\"PRP\"] = np.around(reg.predict(x_test)).astype(int)\n",
    "print(prediction.to_string(index=False))\n",
    "prediction.to_csv(\"rr_results.csv\", index=False)\n"
   ]
  },
  {
   "cell_type": "code",
   "execution_count": 80,
   "metadata": {},
   "outputs": [
    {
     "name": "stdout",
     "output_type": "stream",
     "text": [
      "0.879325171290678\n",
      " Id  PRP\n",
      "  0   88\n",
      "  1  203\n",
      "  2   10\n",
      "  3  437\n",
      "  4   48\n",
      "  5   -1\n",
      "  6   79\n",
      "  7   -4\n",
      "  8   55\n",
      "  9    2\n",
      " 10  163\n",
      " 11    0\n",
      " 12  299\n",
      " 13   29\n",
      " 14  188\n",
      " 15   19\n",
      " 16   17\n",
      " 17   32\n",
      " 18   22\n",
      " 19  168\n",
      " 20   78\n",
      " 21   -5\n",
      " 22   63\n",
      " 23    8\n",
      " 24  203\n",
      " 25  139\n",
      " 26   94\n",
      " 27  448\n",
      " 28   -9\n",
      " 29  349\n",
      " 30  155\n",
      " 31  -12\n",
      " 32   68\n",
      " 33  208\n",
      " 34   65\n",
      " 35  654\n",
      " 36  -13\n",
      " 37  448\n",
      " 38   34\n",
      " 39   26\n",
      " 40  155\n"
     ]
    }
   ],
   "source": [
    "# Ridge Regression w/o first col\n",
    "reg = linear_model.RidgeCV()\n",
    "reg.fit(x_train.iloc[:,1:], y_train[\"PRP\"])\n",
    "print(reg.score(x_train.iloc[:,1:], y_train[\"PRP\"]))\n",
    "\n",
    "index = np.arange(len(x_test.iloc[:,0]))\n",
    "columns = [\"Id\"]\n",
    "rows = len(x_test.iloc[:,0])\n",
    "data = np.arange(rows, dtype=int)\n",
    "rr = pd.DataFrame(data, columns=columns)\n",
    "\n",
    "rr[\"PRP\"] = reg.predict(x_test.iloc[:,1:])\n",
    "prp = np.around(scaler_y.inverse_transform(rr)[:,1]).astype(int)\n",
    "prediction[\"PRP\"] = prp\n",
    "print(prediction.to_string(index=False))\n",
    "prediction.to_csv(\"rr_scaled_wo_results.csv\", index=False)\n"
   ]
  },
  {
   "cell_type": "code",
   "execution_count": 103,
   "metadata": {},
   "outputs": [
    {
     "name": "stdout",
     "output_type": "stream",
     "text": [
      "0.8843057292359112\n",
      " Id  PRP\n",
      "  0   93\n",
      "  1  201\n",
      "  2   29\n",
      "  3  429\n",
      "  4   40\n",
      "  5    5\n",
      "  6   71\n",
      "  7  -15\n",
      "  8   57\n",
      "  9   -1\n",
      " 10  167\n",
      " 11    3\n",
      " 12  300\n",
      " 13   26\n",
      " 14  185\n",
      " 15   15\n",
      " 16   22\n",
      " 17   22\n",
      " 18   15\n",
      " 19  168\n",
      " 20   77\n",
      " 21  -14\n",
      " 22   54\n",
      " 23   23\n",
      " 24  200\n",
      " 25  132\n",
      " 26   87\n",
      " 27  460\n",
      " 28  -13\n",
      " 29  356\n",
      " 30  148\n",
      " 31    6\n",
      " 32   65\n",
      " 33  204\n",
      " 34   61\n",
      " 35  678\n",
      " 36    5\n",
      " 37  460\n",
      " 38   25\n",
      " 39   19\n",
      " 40  148\n"
     ]
    }
   ],
   "source": [
    "# Ridge Regression\n",
    "reg = linear_model.RidgeCV(alphas=np.arange(1,2,50000), fit_intercept=True)\n",
    "reg.fit(x_train, y_train[\"PRP\"])\n",
    "print(reg.score(x_train, y_train[\"PRP\"]))\n",
    "\n",
    "index = np.arange(len(x_test.iloc[:,0]))\n",
    "columns = [\"Id\"]\n",
    "rows = len(x_test.iloc[:,0])\n",
    "data = np.arange(rows, dtype=int)\n",
    "rr = pd.DataFrame(data, columns=columns)\n",
    "\n",
    "rr[\"PRP\"] = reg.predict(x_test)\n",
    "prp = np.around(scaler_y.inverse_transform(rr)[:,1]).astype(int)\n",
    "prediction[\"PRP\"] = prp\n",
    "print(prediction.to_string(index=False))\n",
    "prediction.to_csv(\"rr_scaled_results.csv\", index=False)\n"
   ]
  },
  {
   "cell_type": "code",
   "execution_count": 5,
   "metadata": {},
   "outputs": [],
   "source": [
    "#gridsearch\n",
    "def gridsearch(model, params, scoring=None):\n",
    "    from sklearn.model_selection import GridSearchCV\n",
    "    \n",
    "    gs = GridSearchCV(model, params, scoring=scoring, cv=5)\n",
    "    return gs.fit(x_train, y_train[\"PRP\"]).best_estimator_\n",
    "\n",
    "#makescorer\n",
    "from sklearn.metrics.scorer import make_scorer\n",
    "def rmse(true, pred):\n",
    "    mse = mean_squared_error(true, pred)\n",
    "    rmse = sqrt(mse)\n",
    "\n",
    "    print(rmse)\n",
    "    return rmse"
   ]
  },
  {
   "cell_type": "code",
   "execution_count": 22,
   "metadata": {},
   "outputs": [],
   "source": [
    "from sklearn.preprocessing import PolynomialFeatures\n",
    "\n",
    "poly = PolynomialFeatures(2)\n",
    "\n",
    "x_train = poly.fit_transform(x_train)\n",
    "x_test = poly.fit_transform(x_test)"
   ]
  },
  {
   "cell_type": "code",
   "execution_count": 25,
   "metadata": {},
   "outputs": [
    {
     "name": "stdout",
     "output_type": "stream",
     "text": [
      "[[1.         0.00809171 0.24849699 ... 0.02366864 0.02797203 0.03305785]\n",
      " [1.         0.00809171 0.24849699 ... 0.02366864 0.02797203 0.03305785]\n",
      " [1.         0.00809171 0.24849699 ... 0.02366864 0.02797203 0.03305785]\n",
      " ...\n",
      " [1.         0.05461902 0.02930862 ... 0.00147929 0.00174825 0.00206612]\n",
      " [1.         0.07282535 0.06062124 ... 0.00147929 0.00305944 0.00632748]\n",
      " [1.         0.31220499 0.01402806 ... 0.         0.         0.        ]]\n"
     ]
    }
   ],
   "source": [
    "print(x_train)"
   ]
  },
  {
   "cell_type": "code",
   "execution_count": 28,
   "metadata": {},
   "outputs": [
    {
     "name": "stdout",
     "output_type": "stream",
     "text": [
      "RandomForestRegressor(bootstrap=False, criterion='mse', max_depth=6,\n",
      "                      max_features='auto', max_leaf_nodes=None,\n",
      "                      min_impurity_decrease=0.0, min_impurity_split=None,\n",
      "                      min_samples_leaf=1, min_samples_split=2,\n",
      "                      min_weight_fraction_leaf=0.0, n_estimators=5, n_jobs=None,\n",
      "                      oob_score=False, random_state=None, verbose=0,\n",
      "                      warm_start=False)\n",
      "0.9912496133882431\n",
      " Id  PRP\n",
      "  0   49\n",
      "  1  252\n",
      "  2   19\n",
      "  3  220\n",
      "  4   64\n",
      "  5   19\n",
      "  6   64\n",
      "  7   33\n",
      "  8   51\n",
      "  9   19\n",
      " 10   56\n",
      " 11   19\n",
      " 12  287\n",
      " 13   51\n",
      " 14  179\n",
      " 15   19\n",
      " 16   19\n",
      " 17   64\n",
      " 18   36\n",
      " 19   82\n",
      " 20   71\n",
      " 21   19\n",
      " 22   64\n",
      " 23   19\n",
      " 24  252\n",
      " 25  120\n",
      " 26   64\n",
      " 27  602\n",
      " 28   33\n",
      " 29  183\n",
      " 30  243\n",
      " 31   19\n",
      " 32   51\n",
      " 33  142\n",
      " 34   36\n",
      " 35  961\n",
      " 36   19\n",
      " 37  602\n",
      " 38   36\n",
      " 39   36\n",
      " 40  243\n",
      "82.24487529442258\n"
     ]
    },
    {
     "name": "stderr",
     "output_type": "stream",
     "text": [
      "C:\\Users\\maxkb\\Anaconda3\\lib\\site-packages\\sklearn\\model_selection\\_search.py:814: DeprecationWarning: The default of the `iid` parameter will change from True to False in version 0.22 and will be removed in 0.24. This will change numeric results when test-set sizes are unequal.\n",
      "  DeprecationWarning)\n"
     ]
    },
    {
     "data": {
      "text/plain": [
       "82.24487529442258"
      ]
     },
     "execution_count": 28,
     "metadata": {},
     "output_type": "execute_result"
    }
   ],
   "source": [
    "# rfr\n",
    "\n",
    "from sklearn.ensemble import RandomForestRegressor\n",
    "reg = RandomForestRegressor(bootstrap=False)\n",
    "parameters = {'n_estimators':np.arange(1, 20), 'max_depth':np.arange(1, 20)}\n",
    "scorer = make_scorer(rmse, greater_is_better=False)\n",
    "reg = gridsearch(reg, parameters)\n",
    "print(reg)\n",
    "\n",
    "print(reg.score(x_train, y_train[\"PRP\"]))\n",
    "\n",
    "data = np.arange(len(x_test[:,0]))\n",
    "columns = [\"Id\"]\n",
    "rows = len(x_test[:,0])\n",
    "\n",
    "rr = pd.DataFrame(data, columns=columns)\n",
    "\n",
    "rr[\"PRP\"] = reg.predict(x_test)\n",
    "prp = np.around(scaler_y.inverse_transform(rr)[:,1]).astype(int)\n",
    "prediction[\"PRP\"] = prp\n",
    "print(prediction.to_string(index=False))\n",
    "prediction.to_csv(\"rfr_scaled_gridsearch_poly_results.csv\", index=False)\n",
    "calc_rmse()\n"
   ]
  },
  {
   "cell_type": "code",
   "execution_count": null,
   "metadata": {},
   "outputs": [],
   "source": []
  },
  {
   "cell_type": "code",
   "execution_count": 112,
   "metadata": {},
   "outputs": [
    {
     "name": "stdout",
     "output_type": "stream",
     "text": [
      "0.9811438640865815\n",
      " Id  PRP\n",
      "  0   19\n",
      "  1   19\n",
      "  2   19\n",
      "  3   18\n",
      "  4   19\n",
      "  5   19\n",
      "  6   19\n",
      "  7   19\n",
      "  8   19\n",
      "  9   19\n",
      " 10   19\n",
      " 11   19\n",
      " 12   19\n",
      " 13   19\n",
      " 14   19\n",
      " 15   19\n",
      " 16   19\n",
      " 17   19\n",
      " 18   19\n",
      " 19   19\n",
      " 20   19\n",
      " 21   19\n",
      " 22   19\n",
      " 23   19\n",
      " 24   19\n",
      " 25   19\n",
      " 26   19\n",
      " 27   19\n",
      " 28   19\n",
      " 29   20\n",
      " 30   19\n",
      " 31   19\n",
      " 32   19\n",
      " 33   19\n",
      " 34   19\n",
      " 35   20\n",
      " 36   19\n",
      " 37   19\n",
      " 38   19\n",
      " 39   19\n",
      " 40   19\n"
     ]
    }
   ],
   "source": [
    "#rfr with full data\n",
    "\n",
    "real_values=pd.read_csv('../machine.csv', sep=',')\n",
    "\n",
    "columns = [\"MYCT\", \"MMIN\", \"MMAX\", \"CACH\", \"CHMIN\", \"CHMAX\"]\n",
    "x_train = pd.DataFrame(x_train, columns=columns)\n",
    "x_test = pd.DataFrame(x_test, columns=columns)\n",
    "columns = [\"Id\", \"PRP\"]\n",
    "y_train = pd.DataFrame(y_train, columns=columns)\n",
    "\n",
    "columns = [\"MYCT\", \"MMIN\", \"MMAX\", \"CACH\", \"CHMIN\", \"CHMAX\"]\n",
    "full_data = pd.DataFrame(real_values, columns=columns)\n",
    "columns = [\"PRP\"]\n",
    "full_prp = pd.DataFrame(real_values, columns=columns)\n",
    "\n",
    "\n",
    "scaler_x2 = StandardScaler()\n",
    "scaler_x2 = scaler_x2.fit(full_data)  # Don't cheat - fit only on training data\n",
    "full_data = scaler_x2.transform(full_data)\n",
    "x_test2 = scaler_x2.transform(x_test)\n",
    "\n",
    "scaler_y2 = StandardScaler()\n",
    "scaler_y2 = scaler_y2.fit(full_prp)\n",
    "full_prp = scaler_y2.transform(full_prp)\n",
    "\n",
    "\n",
    "\n",
    "from sklearn.ensemble import RandomForestRegressor\n",
    "reg = RandomForestRegressor(n_estimators=100, max_depth=10)\n",
    "reg.fit(full_data, full_prp[:,0])\n",
    "\n",
    "print(reg.score(full_data, full_prp[:,0]))\n",
    "\n",
    "data = np.arange(len(x_test.iloc[:,0]))\n",
    "columns = [\"Id\"]\n",
    "rows = len(x_test.iloc[:,0])\n",
    "\n",
    "rr = pd.DataFrame(data, columns=columns)\n",
    "\n",
    "rr[\"PRP\"] = reg.predict(x_test2)\n",
    "prp = np.around(scaler_y2.inverse_transform(rr)[:,1]).astype(int)\n",
    "prediction[\"PRP\"] = prp\n",
    "print(prediction.to_string(index=False))\n",
    "prediction.to_csv(\"rfr_scaled_results_fulldata.csv\", index=False)"
   ]
  },
  {
   "cell_type": "code",
   "execution_count": null,
   "metadata": {},
   "outputs": [],
   "source": [
    "# Bayesian ridge regression\n",
    "reg = linear_model.BayesianRidge(compute_score=True)\n",
    "reg.fit(x_train, y_train[\"PRP\"])\n",
    "print(reg.score(x_train, y_train[\"PRP\"]))\n",
    "\n",
    "prediction[\"PRP\"] = np.around(reg.predict(x_test)).astype(int)\n",
    "print(prediction.to_string(index=False))\n",
    "prediction.to_csv(\"brr_results.csv\", index=False)"
   ]
  },
  {
   "cell_type": "code",
   "execution_count": 49,
   "metadata": {},
   "outputs": [
    {
     "name": "stdout",
     "output_type": "stream",
     "text": [
      " Id  PRP\n",
      "  0   19\n",
      "  1  204\n",
      "  2   34\n",
      "  3  224\n",
      "  4   63\n",
      "  5   19\n",
      "  6  117\n",
      "  7    6\n",
      "  8   63\n",
      "  9   11\n",
      " 10   11\n",
      " 11   13\n",
      " 12  324\n",
      " 13   46\n",
      " 14  204\n",
      " 15   46\n",
      " 16   36\n",
      " 17   46\n",
      " 18    6\n",
      " 19  224\n",
      " 20   63\n",
      " 21    6\n",
      " 22   63\n",
      " 23   36\n",
      " 24  204\n",
      " 25  150\n",
      " 26  117\n",
      " 27  456\n",
      " 28    6\n",
      " 29   20\n",
      " 30   96\n",
      " 31    6\n",
      " 32   63\n",
      " 33  204\n",
      " 34   43\n",
      " 35  539\n",
      " 36    6\n",
      " 37  456\n",
      " 38   49\n",
      " 39   46\n",
      " 40   96\n"
     ]
    }
   ],
   "source": [
    "reg = linear_model.LassoCV(cv=5)\n",
    "reg.fit(x_train, y_train[\"PRP\"])\n",
    "\n",
    "a = np.around(reg.predict(x_test)).astype(int)\n",
    "prediction[\"PRP\"] = a.clip(min=6)\n",
    "print(prediction.to_string(index=False))\n",
    "prediction.to_csv(\"lasso_results.csv\", index=False)\n"
   ]
  },
  {
   "cell_type": "code",
   "execution_count": null,
   "metadata": {},
   "outputs": [],
   "source": [
    "reg = linear_model.ElasticNet()\n",
    "reg.fit(x_train, y_train[\"PRP\"])\n",
    "\n",
    "prediction[\"PRP\"] = np.around(reg.predict(x_test)).astype(int)\n",
    "print(prediction.to_string(index=False))\n",
    "prediction.to_csv(\"mtl_results.csv\", index=False)\n"
   ]
  },
  {
   "cell_type": "code",
   "execution_count": 7,
   "metadata": {},
   "outputs": [
    {
     "name": "stdout",
     "output_type": "stream",
     "text": [
      "[-0.33770933  0.59849235 -0.47461769  1.75264856 -0.33088873 -0.56066789\n",
      " -0.15585436 -0.66408194 -0.37563527 -0.61190983 -0.18834574 -0.57140903\n",
      "  1.24149217 -0.42695537  0.46446177 -0.49284921 -0.44535952 -0.44019301\n",
      " -0.52361995  0.30156711 -0.12717015 -0.65443834 -0.23594129 -0.48407475\n",
      "  0.59725888  0.21716581 -0.11448147  2.20935518 -0.6579526   0.97590635\n",
      "  0.28009747 -0.57985087 -0.23842155  0.64428849 -0.3350978   2.6042126\n",
      " -0.5858793   2.20935518 -0.43667073 -0.48916493  0.28009747]\n"
     ]
    }
   ],
   "source": [
    "from sklearn.svm import SVR\n",
    "svr_lin = SVR(kernel='linear', C=100, gamma='auto')\n",
    "svr_lin.fit(x_train, y_train[\"PRP\"])\n",
    "print(svr_lin.predict(x_test))\n",
    "\n",
    "#prediction.to_csv(\"linearSVR_results.csv\", index=False)"
   ]
  }
 ],
 "metadata": {
  "kernelspec": {
   "display_name": "Python 3",
   "language": "python",
   "name": "python3"
  },
  "language_info": {
   "codemirror_mode": {
    "name": "ipython",
    "version": 3
   },
   "file_extension": ".py",
   "mimetype": "text/x-python",
   "name": "python",
   "nbconvert_exporter": "python",
   "pygments_lexer": "ipython3",
   "version": "3.7.1"
  }
 },
 "nbformat": 4,
 "nbformat_minor": 2
}
