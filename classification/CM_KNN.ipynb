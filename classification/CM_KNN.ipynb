{
  "nbformat": 4,
  "nbformat_minor": 0,
  "metadata": {
    "colab": {
      "name": "CM-KNN.ipynb",
      "provenance": [],
      "collapsed_sections": [],
      "toc_visible": true,
      "include_colab_link": true
    },
    "kernelspec": {
      "name": "python3",
      "display_name": "Python 3"
    }
  },
  "cells": [
    {
      "cell_type": "markdown",
      "metadata": {
        "id": "view-in-github",
        "colab_type": "text"
      },
      "source": [
        "<a href=\"https://colab.research.google.com/github/maxburton/lvl4-ml-coursework/blob/classification/CM_KNN.ipynb\" target=\"_parent\"><img src=\"https://colab.research.google.com/assets/colab-badge.svg\" alt=\"Open In Colab\"/></a>"
      ]
    },
    {
      "cell_type": "code",
      "metadata": {
        "id": "FpznDLNmaDkL",
        "colab_type": "code",
        "colab": {}
      },
      "source": [
        "import os\n",
        "import pandas as pd\n",
        "import numpy as np\n",
        "import matplotlib.pyplot as plt\n",
        "import seaborn as sns\n",
        "\n",
        "from sklearn.preprocessing import Normalizer, LabelBinarizer, StandardScaler, MinMaxScaler\n",
        "\n",
        "from sklearn.base import clone\n",
        "\n",
        "from sklearn.linear_model import LogisticRegression, Lasso\n",
        "from sklearn.neighbors import KNeighborsClassifier\n",
        "from sklearn.svm import LinearSVC, SVC\n",
        "from sklearn.ensemble import RandomForestClassifier\n",
        "\n",
        "from sklearn.model_selection import train_test_split, StratifiedKFold, GridSearchCV\n",
        "from sklearn.feature_selection import SelectKBest, f_classif, chi2, SelectFromModel, mutual_info_classif\n",
        "from sklearn.metrics import classification_report, roc_curve, roc_auc_score, f1_score, roc_auc_score, accuracy_score\n",
        "from sklearn.decomposition import PCA\n",
        "\n",
        "from imblearn.over_sampling import RandomOverSampler, ADASYN, SMOTE\n",
        "from imblearn.pipeline import Pipeline"
      ],
      "execution_count": 0,
      "outputs": []
    },
    {
      "cell_type": "markdown",
      "metadata": {
        "id": "iduTetawjH3Z",
        "colab_type": "text"
      },
      "source": [
        "## Load data"
      ]
    },
    {
      "cell_type": "code",
      "metadata": {
        "id": "_aN-0O4uZ5bL",
        "colab_type": "code",
        "outputId": "7e8f9a4f-80d8-4251-c087-41dc82046d9e",
        "colab": {
          "base_uri": "https://localhost:8080/",
          "height": 122
        }
      },
      "source": [
        "from google.colab import drive\n",
        "drive.mount('/content/drive')"
      ],
      "execution_count": 2,
      "outputs": [
        {
          "output_type": "stream",
          "text": [
            "Go to this URL in a browser: https://accounts.google.com/o/oauth2/auth?client_id=947318989803-6bn6qk8qdgf4n4g3pfee6491hc0brc4i.apps.googleusercontent.com&redirect_uri=urn%3aietf%3awg%3aoauth%3a2.0%3aoob&response_type=code&scope=email%20https%3a%2f%2fwww.googleapis.com%2fauth%2fdocs.test%20https%3a%2f%2fwww.googleapis.com%2fauth%2fdrive%20https%3a%2f%2fwww.googleapis.com%2fauth%2fdrive.photos.readonly%20https%3a%2f%2fwww.googleapis.com%2fauth%2fpeopleapi.readonly\n",
            "\n",
            "Enter your authorization code:\n",
            "··········\n",
            "Mounted at /content/drive\n"
          ],
          "name": "stdout"
        }
      ]
    },
    {
      "cell_type": "code",
      "metadata": {
        "id": "86wszH3paAbZ",
        "colab_type": "code",
        "colab": {}
      },
      "source": [
        "!cp drive/My\\ Drive/Colab\\ Notebooks/ML/X_train.csv .\n",
        "!cp drive/My\\ Drive/Colab\\ Notebooks/ML/y_train.csv .\n",
        "!cp drive/My\\ Drive/Colab\\ Notebooks/ML/X_test.csv ."
      ],
      "execution_count": 0,
      "outputs": []
    },
    {
      "cell_type": "code",
      "metadata": {
        "id": "znqy7CD4aFlh",
        "colab_type": "code",
        "colab": {}
      },
      "source": [
        "X_test = pd.read_csv(\"X_test.csv\")\n",
        "X_train = pd.read_csv(\"X_train.csv\")\n",
        "\n",
        "# Subtract 1 to normalize labels to 0,1\n",
        "y_train = pd.read_csv(\"y_train.csv\")[\"EpiOrStroma\"] - 1\n",
        "\n",
        "# Remove columns 17 and 85, as they are (nearly) constant\n",
        "drops = [X_train.columns[85], X_train.columns[17]]\n",
        "\n",
        "X_test = X_test.drop(drops, axis=1)\n",
        "X_train = X_train.drop(drops, axis=1)"
      ],
      "execution_count": 0,
      "outputs": []
    },
    {
      "cell_type": "code",
      "metadata": {
        "id": "PogwtjVdkwKl",
        "colab_type": "code",
        "outputId": "72ac2503-cd2f-4b1e-a9f6-4ec7aa1f77f1",
        "colab": {
          "base_uri": "https://localhost:8080/",
          "height": 34
        }
      },
      "source": [
        "X_test.shape"
      ],
      "execution_count": 5,
      "outputs": [
        {
          "output_type": "execute_result",
          "data": {
            "text/plain": [
              "(798, 110)"
            ]
          },
          "metadata": {
            "tags": []
          },
          "execution_count": 5
        }
      ]
    },
    {
      "cell_type": "markdown",
      "metadata": {
        "id": "E_tqLyZujD1J",
        "colab_type": "text"
      },
      "source": [
        "## Helpers"
      ]
    },
    {
      "cell_type": "code",
      "metadata": {
        "id": "6FBJSG3MaHb4",
        "colab_type": "code",
        "colab": {}
      },
      "source": [
        "def grid_search(model, parameters, X_train, y_train, cv=10):\n",
        "    gs = GridSearchCV(model, parameters, cv=cv, iid=False, scoring=\"f1\")\n",
        "    gs.fit(X_train, y_train)\n",
        "\n",
        "    result = pd.DataFrame(gs.cv_results_).sort_values(by=[\"mean_test_score\"], ascending=False)\n",
        "\n",
        "    params = result.params.reset_index().head(1).to_dict()[\"params\"][0]\n",
        "    return params, gs.best_estimator_\n",
        "\n",
        "\n",
        "def save_output(model, X_test):\n",
        "    y_pred = model.predict(X_test)\n",
        "    submission = pd.DataFrame({'Id': pd.read_csv(\"X_test.csv\").index, 'EpiOrStroma': y_pred + 1})\n",
        "    submission.to_csv('submission.csv', index=False)\n",
        "\n",
        "\n",
        "def plot_roc(y_true, y_pred, ax=plt):\n",
        "    fpr, tpr, _ = roc_curve(y_true, y_pred)\n",
        "    ax.plot(fpr, tpr)\n",
        "    ax.set_xlabel(\"1 - Specificity\")\n",
        "    ax.set_ylabel(\"Sensitivity\")\n",
        "    return roc_auc_score(y_true, y_pred)\n",
        "\n",
        "\n",
        "def cv_eval(model_, X, y, n_splits=10):\n",
        "    X = X.to_numpy()\n",
        "    y = y.to_numpy()\n",
        "    fig, ax = plt.subplots(1, figsize=(4, 4))\n",
        "\n",
        "    acc = []\n",
        "    f1 = []\n",
        "    auc = []\n",
        "    cv = StratifiedKFold(n_splits=n_splits)\n",
        "    for train_index, test_index in cv.split(X, y):\n",
        "        model = clone(model_)\n",
        "        X_tr, X_te = X[train_index], X[test_index]\n",
        "        y_tr, y_te = y[train_index], y[test_index]\n",
        "        model.fit(X_tr, y_tr)\n",
        "        y_pred = model.predict(X_te)\n",
        "        acc.append(accuracy_score(y_te, y_pred))\n",
        "        f1.append(f1_score(y_te, y_pred))\n",
        "        auc.append(roc_auc_score(y_te, y_pred))\n",
        "    plot_roc(y, model.predict_proba(X)[:,1], ax=ax)\n",
        "\n",
        "    def mean(l):\n",
        "        return sum(l)/len(l)\n",
        "\n",
        "    print(f\"Acc: {mean(acc)},\\nF1: {mean(f1)},\\nAUC: {mean(auc)}\\n\")"
      ],
      "execution_count": 0,
      "outputs": []
    },
    {
      "cell_type": "markdown",
      "metadata": {
        "id": "zkP9AtLoiJa4",
        "colab_type": "text"
      },
      "source": [
        "## Models"
      ]
    },
    {
      "cell_type": "markdown",
      "metadata": {
        "id": "wXs3aXiUiM95",
        "colab_type": "text"
      },
      "source": [
        "### Just classifier"
      ]
    },
    {
      "cell_type": "code",
      "metadata": {
        "id": "DJCZfQGXiTch",
        "colab_type": "code",
        "outputId": "bbfac678-d726-4fa9-c71e-0b2258ceb009",
        "colab": {
          "base_uri": "https://localhost:8080/",
          "height": 381
        }
      },
      "source": [
        "k = 5\n",
        "\n",
        "model = Pipeline([\n",
        "    (\"clas\", KNeighborsClassifier()),\n",
        "])\n",
        "\n",
        "parameters = {\n",
        "    \"clas__n_neighbors\": range(2, 13),\n",
        "    \"clas__algorithm\": [\"ball_tree\", \"kd_tree\", \"brute\"],\n",
        "}\n",
        "\n",
        "params, best = grid_search(model, parameters, X_train, y_train, cv=k)\n",
        "print(f\"Params: {params}\\n\")\n",
        "\n",
        "cv_eval(best, X_train, y_train, n_splits=k)"
      ],
      "execution_count": 7,
      "outputs": [
        {
          "output_type": "stream",
          "text": [
            "Params: {'clas__algorithm': 'brute', 'clas__n_neighbors': 9}\n",
            "\n",
            "Acc: 0.5257661038148843,\n",
            "F1: 0.6174754565590146,\n",
            "AUC: 0.5043542845333127\n",
            "\n"
          ],
          "name": "stdout"
        },
        {
          "output_type": "display_data",
          "data": {
            "image/png": "[encoded data removed]",
            "text/plain": [
              "<Figure size 288x288 with 1 Axes>"
            ]
          },
          "metadata": {
            "tags": []
          }
        }
      ]
    },
    {
      "cell_type": "markdown",
      "metadata": {
        "id": "Y0vk3WJLighg",
        "colab_type": "text"
      },
      "source": [
        "### With scaling and normalization"
      ]
    },
    {
      "cell_type": "code",
      "metadata": {
        "id": "Wzj0LrSnikAg",
        "colab_type": "code",
        "outputId": "192f60b6-4dbc-4b8d-b895-5e1408050c8a",
        "colab": {
          "base_uri": "https://localhost:8080/",
          "height": 381
        }
      },
      "source": [
        "k = 5\n",
        "\n",
        "model = Pipeline([\n",
        "    (\"scal\", StandardScaler()),\n",
        "    (\"norm\", Normalizer()),\n",
        "    (\"clas\", KNeighborsClassifier()),\n",
        "])\n",
        "\n",
        "parameters = {\n",
        "    \"clas__n_neighbors\": range(2, 13),\n",
        "    \"clas__algorithm\": [\"ball_tree\", \"kd_tree\", \"brute\"],\n",
        "}\n",
        "\n",
        "params, best = grid_search(model, parameters, X_train, y_train, cv=k)\n",
        "print(f\"Params: {params}\\n\")\n",
        "\n",
        "cv_eval(best, X_train, y_train, n_splits=k)"
      ],
      "execution_count": 8,
      "outputs": [
        {
          "output_type": "stream",
          "text": [
            "Params: {'clas__algorithm': 'brute', 'clas__n_neighbors': 11}\n",
            "\n",
            "Acc: 0.8196028767979989,\n",
            "F1: 0.8289708415123004,\n",
            "AUC: 0.8200728512748974\n",
            "\n"
          ],
          "name": "stdout"
        },
        {
          "output_type": "display_data",
          "data": {
            "image/png": "[encoded data removed]",
            "text/plain": [
              "<Figure size 288x288 with 1 Axes>"
            ]
          },
          "metadata": {
            "tags": []
          }
        }
      ]
    },
    {
      "cell_type": "markdown",
      "metadata": {
        "id": "Vahu6NR9iqhE",
        "colab_type": "text"
      },
      "source": [
        "### With feature selection"
      ]
    },
    {
      "cell_type": "code",
      "metadata": {
        "id": "sB9CjILaiqDR",
        "colab_type": "code",
        "outputId": "ece8f4ae-f638-4920-f3d5-871f59b8aff5",
        "colab": {
          "base_uri": "https://localhost:8080/",
          "height": 401
        }
      },
      "source": [
        "k = 5\n",
        "\n",
        "model = Pipeline([\n",
        "    (\"selector\", SelectKBest(k=10)),\n",
        "    (\"scal\", StandardScaler()),\n",
        "    (\"norm\", Normalizer()),\n",
        "    (\"clas\", KNeighborsClassifier()),\n",
        "])\n",
        "\n",
        "parameters = {\n",
        "    \"clas__n_neighbors\": range(2, 13),\n",
        "    \"clas__algorithm\": [\"ball_tree\", \"kd_tree\", \"brute\"],\n",
        "    \"selector__k\": range(10, 30),\n",
        "    \"selector__score_func\": [f_classif],\n",
        "}\n",
        "\n",
        "params, best = grid_search(model, parameters, X_train, y_train, cv=k)\n",
        "print(f\"Params: {params}\\n\")\n",
        "\n",
        "cv_eval(best, X_train, y_train, n_splits=k)"
      ],
      "execution_count": 9,
      "outputs": [
        {
          "output_type": "stream",
          "text": [
            "Params: {'clas__algorithm': 'kd_tree', 'clas__n_neighbors': 3, 'selector__k': 20, 'selector__score_func': <function f_classif at 0x7f66f6a7f8c8>}\n",
            "\n",
            "Acc: 0.8398530331457161,\n",
            "F1: 0.845319275389255,\n",
            "AUC: 0.8400772430184196\n",
            "\n"
          ],
          "name": "stdout"
        },
        {
          "output_type": "display_data",
          "data": {
            "image/png": "[encoded data removed]",
            "text/plain": [
              "<Figure size 288x288 with 1 Axes>"
            ]
          },
          "metadata": {
            "tags": []
          }
        }
      ]
    },
    {
      "cell_type": "markdown",
      "metadata": {
        "id": "FY3wwnSrj9D2",
        "colab_type": "text"
      },
      "source": [
        "### With PCA instead of k best\n",
        "\n"
      ]
    },
    {
      "cell_type": "code",
      "metadata": {
        "id": "8p-B-HpxkBuu",
        "colab_type": "code",
        "outputId": "8a8559ec-cb04-41fe-d04a-f4eca7d4fb78",
        "colab": {
          "base_uri": "https://localhost:8080/",
          "height": 381
        }
      },
      "source": [
        "k = 5\n",
        "\n",
        "model = Pipeline([\n",
        "    (\"selector\", PCA()),\n",
        "    (\"scal\", StandardScaler()),\n",
        "    (\"norm\", Normalizer()),\n",
        "    (\"clas\", KNeighborsClassifier()),\n",
        "])\n",
        "\n",
        "parameters = {\n",
        "    \"clas__n_neighbors\": range(2, 13),\n",
        "    \"clas__algorithm\": [\"ball_tree\", \"kd_tree\", \"brute\"],\n",
        "    \"selector__n_components\": range(2, 20),\n",
        "}\n",
        "\n",
        "params, best = grid_search(model, parameters, X_train, y_train, cv=k)\n",
        "print(f\"Params: {params}\\n\")\n",
        "\n",
        "cv_eval(best, X_train, y_train, n_splits=k)"
      ],
      "execution_count": 10,
      "outputs": [
        {
          "output_type": "stream",
          "text": [
            "Params: {'clas__algorithm': 'brute', 'clas__n_neighbors': 7, 'selector__n_components': 8}\n",
            "\n",
            "Acc: 0.7946998123827391,\n",
            "F1: 0.8218612505203303,\n",
            "AUC: 0.787213567904105\n",
            "\n"
          ],
          "name": "stdout"
        },
        {
          "output_type": "display_data",
          "data": {
            "image/png": "[encoded data removed]",
            "text/plain": [
              "<Figure size 288x288 with 1 Axes>"
            ]
          },
          "metadata": {
            "tags": []
          }
        }
      ]
    },
    {
      "cell_type": "markdown",
      "metadata": {
        "id": "ThcgoHkBiLtV",
        "colab_type": "text"
      },
      "source": [
        "### Final"
      ]
    },
    {
      "cell_type": "code",
      "metadata": {
        "id": "9v7oqV6TaIuR",
        "colab_type": "code",
        "outputId": "462fe017-25f9-48f3-afad-ed01f620cf8d",
        "colab": {
          "base_uri": "https://localhost:8080/",
          "height": 534
        }
      },
      "source": [
        "k = 10\n",
        "\n",
        "model = Pipeline([\n",
        "    (\"scal\", StandardScaler()),\n",
        "    # (\"scal\", MinMaxScaler()),\n",
        "    (\"norm\", Normalizer()),\n",
        "    (\"selector\", SelectKBest(k=20, score_func=f_classif)),\n",
        "    (\"pca\", PCA(n_components=3)),\n",
        "    (\"clas\", KNeighborsClassifier()),\n",
        "])\n",
        "\n",
        "parameters = {\n",
        "    \"clas__n_neighbors\": range(2, 13),\n",
        "    \"clas__algorithm\": [\"ball_tree\", \"kd_tree\", \"brute\"],\n",
        "}\n",
        "\n",
        "params, best = grid_search(model, parameters, X_train, y_train, cv=k)\n",
        "print(f\"Params: {params}\\n\")\n",
        "\n",
        "cv_eval(best, X_train, y_train, n_splits=k)\n",
        "\n",
        "final = clone(best)\n",
        "final.fit(X_train, y_train)\n",
        "\n",
        "save_output(final, X_test)"
      ],
      "execution_count": 29,
      "outputs": [
        {
          "output_type": "stream",
          "text": [
            "Params: {'clas__algorithm': 'brute', 'clas__n_neighbors': 5}\n",
            "\n",
            "Acc: 0.8402130325814536,\n",
            "F1: 0.851270111530981,\n",
            "AUC: 0.8383838383838385\n",
            "\n",
            "              precision    recall  f1-score   support\n",
            "\n",
            "           0       0.89      0.85      0.87        89\n",
            "           1       0.89      0.92      0.90       111\n",
            "\n",
            "    accuracy                           0.89       200\n",
            "   macro avg       0.89      0.89      0.89       200\n",
            "weighted avg       0.89      0.89      0.89       200\n",
            "\n"
          ],
          "name": "stdout"
        },
        {
          "output_type": "display_data",
          "data": {
            "image/png": "[encoded data removed]",
            "text/plain": [
              "<Figure size 288x288 with 1 Axes>"
            ]
          },
          "metadata": {
            "tags": []
          }
        }
      ]
    },
    {
      "cell_type": "code",
      "metadata": {
        "id": "4cr0YlIkzvh8",
        "colab_type": "code",
        "outputId": "32ab8158-8d8f-4156-a4e5-8156e1d576f6",
        "colab": {
          "base_uri": "https://localhost:8080/",
          "height": 357
        }
      },
      "source": [
        "mask = best[\"selector\"].get_support()\n",
        "selected = X_train.columns[mask]\n",
        "for col in selected:\n",
        "    print(col)"
      ],
      "execution_count": 13,
      "outputs": [
        {
          "output_type": "stream",
          "text": [
            "Mean.Layer.1\n",
            "Mean.Layer.3\n",
            "Skewness.Layer.1\n",
            "Ratio.Layer.3\n",
            "Mean.of.inner.border.Layer.1\n",
            "Mean.of.inner.border.Layer.3\n",
            "Contrast.to.neighbor.pixels.Layer.1..3.\n",
            "Circular.Mean.Layer.1..R1..User..3..R2..Same...R1...border.\n",
            "Mean.diff..to.scene.Layer.1\n",
            "Ratio.to.scene.Layer.1\n",
            "HSI.Transformation.Hue.R.Layer.1.G.Layer.2.B.Layer.3.\n",
            "Asymmetry.of.sub.objects..mean..1.\n",
            "GLCM.Homogeneity..quick.8.11..Layer.1..all.dir..\n",
            "GLCM.Entropy..quick.8.11..Layer.1..all.dir..\n",
            "GLCM.Mean..quick.8.11..Layer.1..all.dir..\n",
            "Number.of.sub.objects.Nucleus..1.\n",
            "Area.of.sub.objects.Nucleus..1...Pxl.\n",
            "Rel..area.of.sub.objects.Nucleus..1.\n",
            "Rel..area.of.sub.objects.Dark..1.\n",
            "Rel..area.of.sub.objects.unclassified..1.\n"
          ],
          "name": "stdout"
        }
      ]
    },
    {
      "cell_type": "markdown",
      "metadata": {
        "id": "cbrMwf0yxHec",
        "colab_type": "text"
      },
      "source": [
        "## (Additional test: Oversampling)"
      ]
    },
    {
      "cell_type": "code",
      "metadata": {
        "id": "kdYL4iPzxG03",
        "colab_type": "code",
        "colab": {
          "base_uri": "https://localhost:8080/",
          "height": 381
        },
        "outputId": "449b1fab-3430-40d4-fd91-7cc3ef9ce70b"
      },
      "source": [
        "k = 10\n",
        "\n",
        "model = Pipeline([\n",
        "    (\"resample\", SMOTE()),\n",
        "    (\"scal\", StandardScaler()),\n",
        "    (\"norm\", Normalizer()),\n",
        "    (\"selector\", SelectKBest(k=20, score_func=f_classif)),\n",
        "    (\"pca\", PCA(n_components=3)),\n",
        "    (\"clas\", KNeighborsClassifier()),\n",
        "])\n",
        "\n",
        "parameters = {\n",
        "    \"clas__n_neighbors\": range(2, 13),\n",
        "    \"clas__algorithm\": [\"ball_tree\", \"kd_tree\", \"brute\"],\n",
        "}\n",
        "\n",
        "params, best = grid_search(model, parameters, X_train, y_train, cv=k)\n",
        "print(f\"Params: {params}\\n\")\n",
        "\n",
        "cv_eval(best, X_train, y_train, n_splits=k)\n",
        "\n",
        "final = clone(best)\n",
        "final.fit(X_train, y_train)\n",
        "save_output(final, X_test)"
      ],
      "execution_count": 27,
      "outputs": [
        {
          "output_type": "stream",
          "text": [
            "Params: {'clas__algorithm': 'ball_tree', 'clas__n_neighbors': 5}\n",
            "\n",
            "Acc: 0.8344486215538847,\n",
            "F1: 0.8360945298027678,\n",
            "AUC: 0.836868686868687\n",
            "\n"
          ],
          "name": "stdout"
        },
        {
          "output_type": "display_data",
          "data": {
            "image/png": "[encoded data removed]",
            "text/plain": [
              "<Figure size 288x288 with 1 Axes>"
            ]
          },
          "metadata": {
            "tags": []
          }
        }
      ]
    },
    {
      "cell_type": "markdown",
      "metadata": {
        "id": "LtQqHgUkxW_8",
        "colab_type": "text"
      },
      "source": [
        "## (Additional test: MinMax scaling)"
      ]
    },
    {
      "cell_type": "code",
      "metadata": {
        "id": "SuNaf3yixbRU",
        "colab_type": "code",
        "colab": {
          "base_uri": "https://localhost:8080/",
          "height": 381
        },
        "outputId": "60a01da8-9938-4f2e-9dfa-55ef5d4f2875"
      },
      "source": [
        "k = 10\n",
        "\n",
        "model = Pipeline([\n",
        "    # (\"scal\", StandardScaler()),\n",
        "    (\"scal\", MinMaxScaler()),\n",
        "    (\"norm\", Normalizer()),\n",
        "    (\"selector\", SelectKBest(k=20, score_func=chi2)),\n",
        "    (\"pca\", PCA(n_components=3)),\n",
        "    (\"clas\", KNeighborsClassifier()),\n",
        "])\n",
        "\n",
        "parameters = {\n",
        "    \"clas__n_neighbors\": range(2, 13),\n",
        "    \"clas__algorithm\": [\"ball_tree\", \"kd_tree\", \"brute\"],\n",
        "}\n",
        "\n",
        "params, best = grid_search(model, parameters, X_train, y_train, cv=k)\n",
        "print(f\"Params: {params}\\n\")\n",
        "\n",
        "cv_eval(best, X_train, y_train, n_splits=k)\n",
        "\n",
        "final = clone(best)\n",
        "final.fit(X_train, y_train)\n",
        "save_output(final, X_test)"
      ],
      "execution_count": 26,
      "outputs": [
        {
          "output_type": "stream",
          "text": [
            "Params: {'clas__algorithm': 'brute', 'clas__n_neighbors': 12}\n",
            "\n",
            "Acc: 0.8497117794486215,\n",
            "F1: 0.8543785830537749,\n",
            "AUC: 0.850189393939394\n",
            "\n"
          ],
          "name": "stdout"
        },
        {
          "output_type": "display_data",
          "data": {
            "image/png": "[encoded data removed]",
            "text/plain": [
              "<Figure size 288x288 with 1 Axes>"
            ]
          },
          "metadata": {
            "tags": []
          }
        }
      ]
    },
    {
      "cell_type": "markdown",
      "metadata": {
        "id": "X_-RZWd3un-t",
        "colab_type": "text"
      },
      "source": [
        "## (Additional test: Voting classifier)"
      ]
    },
    {
      "cell_type": "code",
      "metadata": {
        "id": "LsQ7uG-YqCrB",
        "colab_type": "code",
        "outputId": "bfd6bd0e-11b8-4982-e5e9-dacc18eff098",
        "colab": {
          "base_uri": "https://localhost:8080/",
          "height": 347
        }
      },
      "source": [
        "from sklearn.ensemble import RandomForestClassifier, VotingClassifier\n",
        "from sklearn.linear_model import LogisticRegression\n",
        "\n",
        "k = 10\n",
        "\n",
        "model = Pipeline([\n",
        "    (\"scal\", StandardScaler()),\n",
        "    (\"selector\", SelectKBest(k=20)),\n",
        "    (\"pca\", PCA(n_components=3)),\n",
        "    (\"clas\", VotingClassifier(\n",
        "        estimators=[\n",
        "            # ('knn', KNeighborsClassifier()), \n",
        "            ('svc', SVC(probability=True, gamma=\"auto\")),\n",
        "            (\"log\", LogisticRegression(solver=\"saga\", penalty=\"l1\")),\n",
        "        ], \n",
        "    voting='soft'))\n",
        "])\n",
        "\n",
        "cv_eval(model, X_train, y_train, n_splits=k)\n",
        "\n",
        "final = clone(model)\n",
        "final.fit(X_train, y_train)\n",
        "save_output(final, X_test)"
      ],
      "execution_count": 21,
      "outputs": [
        {
          "output_type": "stream",
          "text": [
            "Acc: 0.8397117794486215,\n",
            "F1: 0.8362924901185771,\n",
            "AUC: 0.8404040404040405\n",
            "\n"
          ],
          "name": "stdout"
        },
        {
          "output_type": "display_data",
          "data": {
            "image/png": "[encoded data removed]",
            "text/plain": [
              "<Figure size 288x288 with 1 Axes>"
            ]
          },
          "metadata": {
            "tags": []
          }
        }
      ]
    },
    {
      "cell_type": "code",
      "metadata": {
        "id": "m7lYyX_6wRID",
        "colab_type": "code",
        "colab": {}
      },
      "source": [
        ""
      ],
      "execution_count": 0,
      "outputs": []
    }
  ]
}