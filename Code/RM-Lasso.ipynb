{
 "cells": [
  {
   "cell_type": "markdown",
   "metadata": {},
   "source": [
    "# Lasso Regression"
   ]
  },
  {
   "cell_type": "code",
   "execution_count": 1,
   "metadata": {},
   "outputs": [],
   "source": [
    "from sklearn import linear_model\n",
    "import numpy as np\n",
    "import pandas as pd\n",
    "import matplotlib.pyplot as plt\n",
    "x_tr=pd.read_csv('../X_train.csv', sep=',')\n",
    "y_tr=pd.read_csv('../y_train.csv', sep=',')\n",
    "x_te=pd.read_csv('../X_test.csv', sep=',')\n",
    "\n",
    "# Initial empty prediction dataframe\n",
    "index = np.arange(len(x_te.iloc[:,0]))\n",
    "columns = [\"Id\"]\n",
    "rows = len(x_te.iloc[:,0])\n",
    "data = np.arange(rows, dtype=int)\n",
    "prediction = pd.DataFrame(data, columns=columns)\n",
    "\n",
    "# Ignore deprecation warnings (makes results hard to read)\n",
    "def warn(*args, **kwargs):\n",
    "    pass\n",
    "import warnings\n",
    "warnings.warn = warn"
   ]
  },
  {
   "cell_type": "code",
   "execution_count": 34,
   "metadata": {},
   "outputs": [
    {
     "name": "stdout",
     "output_type": "stream",
     "text": [
      "Best Params:{'lasso__alphas': array([4.94897959])}\n",
      " Id   PRP\n",
      "  0    45\n",
      "  1   154\n",
      "  2    21\n",
      "  3   388\n",
      "  4    55\n",
      "  5    24\n",
      "  6    73\n",
      "  7    32\n",
      "  8    42\n",
      "  9    25\n",
      " 10    33\n",
      " 11    26\n",
      " 12   263\n",
      " 13    48\n",
      " 14   149\n",
      " 15    35\n",
      " 16    36\n",
      " 17    46\n",
      " 18    34\n",
      " 19   152\n",
      " 20    97\n",
      " 21    29\n",
      " 22    65\n",
      " 23    22\n",
      " 24   154\n",
      " 25   116\n",
      " 26    75\n",
      " 27   382\n",
      " 28    30\n",
      " 29   297\n",
      " 30   114\n",
      " 31    16\n",
      " 32    71\n",
      " 33   178\n",
      " 34    43\n",
      " 35  1011\n",
      " 36    24\n",
      " 37   382\n",
      " 38    43\n",
      " 39    36\n",
      " 40   114\n",
      "0.9434450552813203\n"
     ]
    }
   ],
   "source": [
    "#Lasso regression pipeline (l1 regularisation)\n",
    "\n",
    "from sklearn.pipeline import Pipeline\n",
    "from sklearn.model_selection import GridSearchCV\n",
    "from sklearn.preprocessing import StandardScaler\n",
    "# Scale twice, as poly features will return values that need to be rescaled\n",
    "pipe = Pipeline([(\"scaler1\", StandardScaler()),\n",
    "                  (\"poly\", PolynomialFeatures(degree=5)),\n",
    "                  (\"scaler2\", StandardScaler()),\n",
    "                  (\"lasso\", linear_model.ElasticNetCV(l1_ratio=1.0, cv=3, max_iter=1e6))\n",
    "                 ])\n",
    "\n",
    "# Perform a grid search to find the best alphas according to neg_mean_absolute_error scoring\n",
    "param_grid = {\n",
    "    'lasso__alphas': list(np.linspace(0.1, 10.0, 50).reshape(50,1))\n",
    "}\n",
    "search = GridSearchCV(pipe, param_grid, cv=5, error_score=\"raise\", scoring=\"neg_mean_squared_error\")\n",
    "print(\"Best Params:\" + str(search.fit(x_tr, y_tr[\"PRP\"]).best_params_))\n",
    "\n",
    "model = search.fit(x_tr, y_tr[\"PRP\"]).best_estimator_\n",
    "\n",
    "prediction[\"PRP\"] = np.around(model.predict(x_te)).astype(int)\n",
    "print(prediction.to_string(index=False))\n",
    "prediction.to_csv(\"n_lr_results.csv\", index=False)\n",
    "print(model.score(x_tr, y_tr[\"PRP\"])) # R2 scoring for good measure"
   ]
  },
  {
   "cell_type": "markdown",
   "metadata": {},
   "source": [
    "# Experiments"
   ]
  },
  {
   "cell_type": "code",
   "execution_count": 4,
   "metadata": {},
   "outputs": [],
   "source": [
    "from sklearn.preprocessing import StandardScaler, MinMaxScaler, RobustScaler\n",
    "# Scale data MinMax or Standard\n",
    "def scale(type=\"standard\", x_train=x_tr, x_test=x_te):\n",
    "    if type==\"minmax\":\n",
    "        scaler_x = MinMaxScaler()\n",
    "    elif type==\"standard\":\n",
    "        scaler_x = StandardScaler()\n",
    "    elif type==\"robust\":\n",
    "        scaler_x = RobustScaler()\n",
    "        \n",
    "    scaler_x = scaler_x.fit(x_train)  # fit only on training data\n",
    "    x_train = scaler_x.transform(x_train)\n",
    "    x_test = scaler_x.transform(x_test)  # apply same transformation to test data\n",
    "    \n",
    "    return x_train, x_test, scaler_x\n"
   ]
  },
  {
   "cell_type": "code",
   "execution_count": 7,
   "metadata": {},
   "outputs": [],
   "source": [
    "# Generate polynomial features\n",
    "from sklearn.preprocessing import PolynomialFeatures\n",
    "def poly(features=3, x_train=x_tr, x_test=x_te):\n",
    "\n",
    "    poly = PolynomialFeatures(features)\n",
    "\n",
    "    x_train = poly.fit_transform(x_train)\n",
    "    x_test = poly.fit_transform(x_test)\n",
    "    \n",
    "    return x_train, x_test"
   ]
  },
  {
   "cell_type": "code",
   "execution_count": 14,
   "metadata": {},
   "outputs": [
    {
     "data": {
      "image/png": "[encoded data removed]",
      "text/plain": [
       "<Figure size 432x288 with 1 Axes>"
      ]
     },
     "metadata": {
      "needs_background": "light"
     },
     "output_type": "display_data"
    }
   ],
   "source": [
    "from sklearn.pipeline import Pipeline\n",
    "\n",
    "# Visualising how MSE varies with different alpha values\n",
    "cv = 5\n",
    "pipe = Pipeline([(\"scaler1\", StandardScaler()),\n",
    "                  (\"poly\", PolynomialFeatures(degree=5)),\n",
    "                  (\"scaler2\", StandardScaler()),\n",
    "                  (\"lasso\", linear_model.LassoCV(alphas=np.linspace(1, 20.0, 50), cv=cv, max_iter=1e6))\n",
    "                 ])\n",
    "\n",
    "model = pipe.fit(x_tr, y_tr[\"PRP\"])\n",
    "\n",
    "for i in range(cv):\n",
    "    plt.plot(pipe[\"lasso\"].alphas_, pipe[\"lasso\"].mse_path_[:,i], label=i+1)\n",
    "\n",
    "plt.title('Alpha vs RMSE', fontsize=14)\n",
    "plt.xlabel('Alpha', fontsize=14)\n",
    "plt.ylabel('RMSE', fontsize=14)\n",
    "plt.legend(loc=\"upper right\")\n",
    "plt.grid(True)\n",
    "plt.show()"
   ]
  },
  {
   "cell_type": "code",
   "execution_count": 37,
   "metadata": {},
   "outputs": [
    {
     "name": "stdout",
     "output_type": "stream",
     "text": [
      "Best Params:{'ridge__alphas': array([10.])}\n"
     ]
    },
    {
     "ename": "AttributeError",
     "evalue": "'GridSearchCV' object has no attribute 'grid_scores_'",
     "output_type": "error",
     "traceback": [
      "\u001b[1;31m---------------------------------------------------------------------------\u001b[0m",
      "\u001b[1;31mAttributeError\u001b[0m                            Traceback (most recent call last)",
      "\u001b[1;32m<ipython-input-37-9301b0befa5c>\u001b[0m in \u001b[0;36m<module>\u001b[1;34m\u001b[0m\n\u001b[0;32m     16\u001b[0m \u001b[0msearch\u001b[0m \u001b[1;33m=\u001b[0m \u001b[0mGridSearchCV\u001b[0m\u001b[1;33m(\u001b[0m\u001b[0mpipe\u001b[0m\u001b[1;33m,\u001b[0m \u001b[0mparam_grid\u001b[0m\u001b[1;33m,\u001b[0m \u001b[0mcv\u001b[0m\u001b[1;33m=\u001b[0m\u001b[1;36m5\u001b[0m\u001b[1;33m,\u001b[0m \u001b[0merror_score\u001b[0m\u001b[1;33m=\u001b[0m\u001b[1;34m\"raise\"\u001b[0m\u001b[1;33m,\u001b[0m \u001b[0mscoring\u001b[0m\u001b[1;33m=\u001b[0m\u001b[1;34m\"neg_mean_squared_error\"\u001b[0m\u001b[1;33m)\u001b[0m\u001b[1;33m\u001b[0m\u001b[1;33m\u001b[0m\u001b[0m\n\u001b[0;32m     17\u001b[0m \u001b[0mprint\u001b[0m\u001b[1;33m(\u001b[0m\u001b[1;34m\"Best Params:\"\u001b[0m \u001b[1;33m+\u001b[0m \u001b[0mstr\u001b[0m\u001b[1;33m(\u001b[0m\u001b[0msearch\u001b[0m\u001b[1;33m.\u001b[0m\u001b[0mfit\u001b[0m\u001b[1;33m(\u001b[0m\u001b[0mx_tr\u001b[0m\u001b[1;33m,\u001b[0m \u001b[0my_tr\u001b[0m\u001b[1;33m[\u001b[0m\u001b[1;34m\"PRP\"\u001b[0m\u001b[1;33m]\u001b[0m\u001b[1;33m)\u001b[0m\u001b[1;33m.\u001b[0m\u001b[0mbest_params_\u001b[0m\u001b[1;33m)\u001b[0m\u001b[1;33m)\u001b[0m\u001b[1;33m\u001b[0m\u001b[1;33m\u001b[0m\u001b[0m\n\u001b[1;32m---> 18\u001b[1;33m \u001b[0mprint\u001b[0m\u001b[1;33m(\u001b[0m\u001b[0msearch\u001b[0m\u001b[1;33m.\u001b[0m\u001b[0mgrid_scores_\u001b[0m\u001b[1;33m)\u001b[0m\u001b[1;33m\u001b[0m\u001b[1;33m\u001b[0m\u001b[0m\n\u001b[0m\u001b[0;32m     19\u001b[0m \u001b[1;33m\u001b[0m\u001b[0m\n\u001b[0;32m     20\u001b[0m \u001b[0mmodel\u001b[0m \u001b[1;33m=\u001b[0m \u001b[0msearch\u001b[0m\u001b[1;33m.\u001b[0m\u001b[0mfit\u001b[0m\u001b[1;33m(\u001b[0m\u001b[0mx_tr\u001b[0m\u001b[1;33m,\u001b[0m \u001b[0my_tr\u001b[0m\u001b[1;33m[\u001b[0m\u001b[1;34m\"PRP\"\u001b[0m\u001b[1;33m]\u001b[0m\u001b[1;33m)\u001b[0m\u001b[1;33m.\u001b[0m\u001b[0mbest_estimator_\u001b[0m\u001b[1;33m\u001b[0m\u001b[1;33m\u001b[0m\u001b[0m\n",
      "\u001b[1;31mAttributeError\u001b[0m: 'GridSearchCV' object has no attribute 'grid_scores_'"
     ]
    }
   ],
   "source": [
    "#Ridge regression pipeline (l2 regularisation)\n",
    "\n",
    "from sklearn.pipeline import Pipeline\n",
    "from sklearn.model_selection import GridSearchCV\n",
    "# Scale twice, as poly features will return values that need to be rescaled\n",
    "pipe = Pipeline([(\"scale1\", StandardScaler()),\n",
    "                  (\"poly\", PolynomialFeatures(degree=3)), # degree > 3 returns negative results\n",
    "                  (\"scale2\", StandardScaler()),\n",
    "                  (\"ridge\", linear_model.RidgeCV(cv=5))\n",
    "                 ])\n",
    "\n",
    "# Perform a grid search to find the best alphas according to neg_mean_absolute_error scoring\n",
    "param_grid = {\n",
    "    'ridge__alphas': list(np.linspace(0.1, 10.0, 50).reshape(50,1))\n",
    "}\n",
    "search = GridSearchCV(pipe, param_grid, cv=5, error_score=\"raise\", scoring=\"neg_mean_squared_error\")\n",
    "print(\"Best Params:\" + str(search.fit(x_tr, y_tr[\"PRP\"]).best_params_))\n",
    "print(search.grid_scores_)\n",
    "\n",
    "model = search.fit(x_tr, y_tr[\"PRP\"]).best_estimator_\n",
    "\n",
    "prediction[\"PRP\"] = np.around(model.predict(x_te)).astype(int)\n",
    "print(prediction.to_string(index=False))\n",
    "prediction.to_csv(\"n_rr_results.csv\", index=False)\n",
    "print(model.score(x_tr, y_tr[\"PRP\"])) # R2 scoring for good measure"
   ]
  },
  {
   "cell_type": "code",
   "execution_count": 32,
   "metadata": {},
   "outputs": [
    {
     "name": "stdout",
     "output_type": "stream",
     "text": [
      "degree=1\n",
      "Best Params:{'lasso__alphas': array([10.])}\n",
      "0.8729039158573217\n",
      "degree=2\n",
      "Best Params:{'lasso__alphas': array([6.56530612])}\n",
      "0.9407159409248527\n",
      "degree=3\n",
      "Best Params:{'lasso__alphas': array([3.33265306])}\n",
      "0.9456177864114023\n",
      "degree=4\n",
      "Best Params:{'lasso__alphas': array([4.34285714])}\n",
      "0.944241649967071\n",
      "degree=5\n",
      "Best Params:{'lasso__alphas': array([4.94897959])}\n",
      "0.9434450552813203\n"
     ]
    }
   ],
   "source": [
    "# Iteratively find the best polynomial features degree\n",
    "def get_pipe(degree):\n",
    "    pipe = Pipeline([(\"scaler1\", StandardScaler()),\n",
    "                      (\"poly\", PolynomialFeatures(degree=degree)),\n",
    "                      (\"scaler2\", StandardScaler()),\n",
    "                      (\"lasso\", linear_model.LassoCV(alphas=np.linspace(1, 20.0, 50), cv=cv, max_iter=1e6))\n",
    "                     ])\n",
    "    return pipe\n",
    "\n",
    "degree = 5\n",
    "for i in range(degree):\n",
    "    print(\"degree=\" + str(i+1))\n",
    "    pipe = get_pipe(i+1)\n",
    "    # Perform a grid search to find the best alphas according to neg_mean_absolute_error scoring\n",
    "    param_grid = {\n",
    "        'lasso__alphas': list(np.linspace(0.1, 10.0, 50).reshape(50,1))\n",
    "    }\n",
    "    search = GridSearchCV(pipe, param_grid, cv=5, error_score=\"raise\", scoring=\"neg_mean_squared_error\")\n",
    "    print(\"Best Params:\" + str(search.fit(x_tr, y_tr[\"PRP\"]).best_params_))\n",
    "\n",
    "    model = search.fit(x_tr, y_tr[\"PRP\"]).best_estimator_\n",
    "\n",
    "    prediction[\"PRP\"] = np.around(model.predict(x_te)).astype(int)\n",
    "    prediction.to_csv(\"n_lr_results.csv\", index=False)\n",
    "    print(model.score(x_tr, y_tr[\"PRP\"])) # R2 scoring for good measure\n"
   ]
  },
  {
   "cell_type": "code",
   "execution_count": 26,
   "metadata": {},
   "outputs": [],
   "source": [
    "# Calculate MSE\n",
    "\n",
    "from sklearn.metrics import mean_squared_error\n",
    "from math import sqrt\n",
    "\n",
    "def calc_rmse(real, predict):\n",
    "    mse = mean_squared_error(real, predict)\n",
    "    rmse = sqrt(mse)\n",
    "\n",
    "    return rmse"
   ]
  },
  {
   "cell_type": "code",
   "execution_count": 28,
   "metadata": {},
   "outputs": [
    {
     "name": "stdout",
     "output_type": "stream",
     "text": [
      "11.547005383792516\n",
      "173.20508075688772\n"
     ]
    }
   ],
   "source": [
    "# Effect on RMSE\n",
    "real = [20, 40, 300]\n",
    "predict = [20, 40, 300]\n",
    "predict[0] *= 2\n",
    "print(calc_rmse(real, predict))\n",
    "\n",
    "predict = [20, 40, 300]\n",
    "predict[2] *= 2\n",
    "print(calc_rmse(real, predict))\n",
    "\n",
    "assert()\n",
    "# Larger the number, the worse the penalty"
   ]
  }
 ],
 "metadata": {
  "kernelspec": {
   "display_name": "Python 3",
   "language": "python",
   "name": "python3"
  },
  "language_info": {
   "codemirror_mode": {
    "name": "ipython",
    "version": 3
   },
   "file_extension": ".py",
   "mimetype": "text/x-python",
   "name": "python",
   "nbconvert_exporter": "python",
   "pygments_lexer": "ipython3",
   "version": "3.7.1"
  }
 },
 "nbformat": 4,
 "nbformat_minor": 2
}
