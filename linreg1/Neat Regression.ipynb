{
 "cells": [
  {
   "cell_type": "code",
   "execution_count": 58,
   "metadata": {},
   "outputs": [],
   "source": [
    "from sklearn import linear_model\n",
    "import numpy as np\n",
    "import pandas as pd\n",
    "import matplotlib.pyplot as plt\n",
    "x_tr=pd.read_csv('../X_train.csv', sep=',')\n",
    "y_tr=pd.read_csv('../y_train.csv', sep=',')\n",
    "x_te=pd.read_csv('../X_test.csv', sep=',')\n",
    "\n",
    "# Initial empty prediction dataframe\n",
    "index = np.arange(len(x_te.iloc[:,0]))\n",
    "columns = [\"Id\"]\n",
    "rows = len(x_te.iloc[:,0])\n",
    "data = np.arange(rows, dtype=int)\n",
    "prediction = pd.DataFrame(data, columns=columns)"
   ]
  },
  {
   "cell_type": "code",
   "execution_count": 59,
   "metadata": {},
   "outputs": [
    {
     "data": {
      "text/plain": [
       "'\\nprint(x_train.mean(axis = 0))\\nprint(x_test.mean(axis = 0))\\nprint(y_train.mean(axis = 0))\\nprint(x_train.std(axis = 0))\\nprint(x_test.std(axis = 0))\\nprint(y_train.std(axis = 0))\\n'"
      ]
     },
     "execution_count": 59,
     "metadata": {},
     "output_type": "execute_result"
    }
   ],
   "source": [
    "from sklearn.preprocessing import StandardScaler, MinMaxScaler, RobustScaler, QuantileTransformer\n",
    "# Scale data MinMax\n",
    "def scale(type=\"minmax\", x_train=x_tr, x_test=x_te):\n",
    "    if type==\"minmax\":\n",
    "        scaler_x = MinMaxScaler()\n",
    "    elif type==\"standard\":\n",
    "        scaler_x = StandardScaler()\n",
    "        \n",
    "    scaler_x = scaler_x.fit(x_train)  # Don't cheat - fit only on training data\n",
    "    x_train = scaler_x.transform(x_train)\n",
    "    x_test = scaler_x.transform(x_test)  # apply same transformation to test data\n",
    "    \n",
    "    return x_train, x_test, scaler_x\n",
    "\n",
    "\"\"\"\n",
    "print(x_train.mean(axis = 0))\n",
    "print(x_test.mean(axis = 0))\n",
    "print(y_train.mean(axis = 0))\n",
    "print(x_train.std(axis = 0))\n",
    "print(x_test.std(axis = 0))\n",
    "print(y_train.std(axis = 0))\n",
    "\"\"\""
   ]
  },
  {
   "cell_type": "code",
   "execution_count": 60,
   "metadata": {},
   "outputs": [],
   "source": [
    "# Polynomial features\n",
    "from sklearn.preprocessing import PolynomialFeatures\n",
    "def poly(features=3, x_train=x_tr, x_test=x_te):\n",
    "\n",
    "    poly = PolynomialFeatures(features)\n",
    "\n",
    "    x_train = poly.fit_transform(x_train)\n",
    "    x_test = poly.fit_transform(x_test)\n",
    "    \n",
    "    return x_train, x_test"
   ]
  },
  {
   "cell_type": "code",
   "execution_count": 61,
   "metadata": {},
   "outputs": [],
   "source": [
    "#makescorer\n",
    "from sklearn.metrics.scorer import make_scorer\n",
    "def rmse(true, pred):\n",
    "    mse = mean_squared_error(true, pred)\n",
    "    rmse = sqrt(mse)\n",
    "\n",
    "    print(rmse)\n",
    "    return rmse"
   ]
  },
  {
   "cell_type": "code",
   "execution_count": 127,
   "metadata": {},
   "outputs": [
    {
     "name": "stdout",
     "output_type": "stream",
     "text": [
      " Id   PRP\n",
      "  0    43\n",
      "  1   154\n",
      "  2    22\n",
      "  3   382\n",
      "  4    56\n",
      "  5    25\n",
      "  6    73\n",
      "  7    33\n",
      "  8    41\n",
      "  9    26\n",
      " 10    29\n",
      " 11    27\n",
      " 12   262\n",
      " 13    49\n",
      " 14   148\n",
      " 15    36\n",
      " 16    37\n",
      " 17    46\n",
      " 18    35\n",
      " 19   153\n",
      " 20    97\n",
      " 21    30\n",
      " 22    65\n",
      " 23    23\n",
      " 24   154\n",
      " 25   115\n",
      " 26    75\n",
      " 27   379\n",
      " 28    31\n",
      " 29   316\n",
      " 30   113\n",
      " 31    17\n",
      " 32    71\n",
      " 33   177\n",
      " 34    43\n",
      " 35  1002\n",
      " 36    25\n",
      " 37   379\n",
      " 38    44\n",
      " 39    37\n",
      " 40   113\n",
      "0.9423685320925181\n",
      "42.6571699288814\n"
     ]
    },
    {
     "data": {
      "text/plain": [
       "42.6571699288814"
      ]
     },
     "execution_count": 127,
     "metadata": {},
     "output_type": "execute_result"
    }
   ],
   "source": [
    "#Lasso regression pipeline (l1 regularisation)\n",
    "\n",
    "from sklearn.pipeline import Pipeline\n",
    "from sklearn.model_selection import GridSearchCV\n",
    "pipe = Pipeline([(\"scaler1\", StandardScaler()),\n",
    "                  (\"poly\", PolynomialFeatures(degree=5)),\n",
    "                  (\"scaler2\", StandardScaler()),\n",
    "                  (\"lasso\", linear_model.ElasticNetCV(l1_ratio=1.0, cv=3, max_iter=1e6))\n",
    "                 ])\n",
    "\n",
    "param_grid = {\n",
    "    'lasso__alphas': list(np.linspace(0.1, 10.0, 50).reshape(50,1))\n",
    "}\n",
    "search = GridSearchCV(pipe, param_grid, cv=5, error_score=\"raise\", scoring=\"neg_mean_absolute_error\")\n",
    "print(\"Best Params:\" + str(search.fit(x_tr, y_tr[\"PRP\"]).best_params_))\n",
    "\n",
    "model = search.fit(x_tr, y_tr[\"PRP\"]).best_estimator_\n",
    "\n",
    "\n",
    "prediction[\"PRP\"] = np.around(model.predict(x_te)).astype(int)\n",
    "#prediction.iloc[35][\"PRP\"] *= 2\n",
    "print(prediction.to_string(index=False))\n",
    "prediction.to_csv(\"n_lr_results.csv\", index=False)\n",
    "print(model.score(x_tr, y_tr[\"PRP\"]))\n",
    "calc_rmse()"
   ]
  },
  {
   "cell_type": "code",
   "execution_count": 103,
   "metadata": {},
   "outputs": [
    {
     "name": "stdout",
     "output_type": "stream",
     "text": [
      " Id   PRP\n",
      "  0    12\n",
      "  1   139\n",
      "  2    18\n",
      "  3   522\n",
      "  4    44\n",
      "  5    23\n",
      "  6    61\n",
      "  7    35\n",
      "  8    46\n",
      "  9    32\n",
      " 10   201\n",
      " 11    26\n",
      " 12   282\n",
      " 13    46\n",
      " 14   127\n",
      " 15    37\n",
      " 16    28\n",
      " 17    39\n",
      " 18    32\n",
      " 19   142\n",
      " 20    63\n",
      " 21    29\n",
      " 22    49\n",
      " 23    20\n",
      " 24   140\n",
      " 25    97\n",
      " 26    66\n",
      " 27   495\n",
      " 28    33\n",
      " 29   359\n",
      " 30    80\n",
      " 31     7\n",
      " 32    60\n",
      " 33   158\n",
      " 34    43\n",
      " 35  1176\n",
      " 36    25\n",
      " 37   495\n",
      " 38    38\n",
      " 39    38\n",
      " 40    80\n",
      "0.982645986142639\n",
      "64.29599995144409\n"
     ]
    },
    {
     "name": "stderr",
     "output_type": "stream",
     "text": [
      "C:\\Users\\maxkb\\Anaconda3\\lib\\site-packages\\sklearn\\model_selection\\_search.py:814: DeprecationWarning: The default of the `iid` parameter will change from True to False in version 0.22 and will be removed in 0.24. This will change numeric results when test-set sizes are unequal.\n",
      "  DeprecationWarning)\n"
     ]
    },
    {
     "data": {
      "text/plain": [
       "64.29599995144409"
      ]
     },
     "execution_count": 103,
     "metadata": {},
     "output_type": "execute_result"
    }
   ],
   "source": []
  },
  {
   "cell_type": "code",
   "execution_count": 140,
   "metadata": {},
   "outputs": [
    {
     "name": "stdout",
     "output_type": "stream",
     "text": [
      "[[ 9233.7796813    915.03714224  3763.67422763  2081.4983545\n",
      "  12787.27184556]\n",
      " [ 9114.50385607   911.43123116  3727.15379587  2054.59757413\n",
      "  12685.17930114]\n",
      " [ 8997.47844097   908.06790204  3690.87819509  2028.37360375\n",
      "  12577.57507944]\n",
      " [ 8882.35555295   904.91110872  3650.93619383  2002.77792419\n",
      "  12470.75247956]\n",
      " [ 8769.14265615   901.96023499  3600.05295285  1977.80196617\n",
      "  12364.76522104]\n",
      " [ 8657.83961364   899.21523971  3551.76668725  1953.44461126\n",
      "  12259.65020962]\n",
      " [ 8548.44274935   896.6761235   3504.33823757  1929.70526667\n",
      "  12155.28531742]\n",
      " [ 8440.9535924    894.34288635  3457.61775996  1906.58365294\n",
      "  12051.90634552]\n",
      " [ 8335.33518236   892.21552825  3411.59235656  1884.07963805\n",
      "  11949.43174413]\n",
      " [ 8231.577914     890.2940492   3366.26337639  1862.1931597\n",
      "  11847.84448706]\n",
      " [ 8130.72021424   888.57844921  3321.63116935  1840.30402177\n",
      "  11747.14095483]\n",
      " [ 8038.94585061   887.07350333  3277.69574639  1819.50608451\n",
      "  11647.32037804]\n",
      " [ 7950.60093291   885.81401612  3234.40223456  1799.69085887\n",
      "  11548.38259314]\n",
      " [ 7873.81479753   884.47052049  3191.45624641  1780.72077878\n",
      "  11450.32756536]\n",
      " [ 7823.6524265    883.24752554  3147.31550869  1762.56329917\n",
      "  11353.03771907]\n",
      " [ 7778.47125749   878.46780723  3103.17142036  1745.21310122\n",
      "  11256.72516831]\n",
      " [ 7736.56482587   874.00918954  3059.71457885  1728.66864542\n",
      "  11161.31442859]\n",
      " [ 7696.32998166   869.96334232  3016.99270718  1712.92366058\n",
      "  11066.79032671]\n",
      " [ 7657.45990324   866.33550396  2974.88795817  1697.98594942\n",
      "  10973.14976636]\n",
      " [ 7619.9429275    863.11921214  2933.50754652  1684.05993745\n",
      "  10880.39211572]\n",
      " [ 7583.93076903   860.31599625  2892.75509797  1670.36734\n",
      "  10788.51724587]\n",
      " [ 7548.90599121   859.1264791   2852.68936388  1657.18177479\n",
      "  10697.5251305 ]\n",
      " [ 7515.0884375    868.14728331  2813.32319058  1644.50424437\n",
      "  10607.30987898]\n",
      " [ 7482.72719717   875.31876582  2774.59990409  1632.32922374\n",
      "  10518.06339393]\n",
      " [ 7443.5903584    873.49725466  2733.40783206  1620.66214558\n",
      "  10429.71633467]\n",
      " [ 7385.96361534   871.72983719  2688.95763862  1609.50844929\n",
      "  10342.25529002]\n",
      " [ 7330.08966473   870.23431072  2644.32905055  1602.32741316\n",
      "  10255.67763301]\n",
      " [ 6996.15305222   868.79997118  2601.33127357  1595.53279036\n",
      "  10169.98284906]\n",
      " [ 6557.88950805   867.46977092  2556.8990406   1589.2494201\n",
      "  10085.17083741]\n",
      " [ 6160.63011565   866.24221741  2512.64153899  1583.5003474\n",
      "  10001.14574912]\n",
      " [ 5802.64711119   865.11641016  2468.66605602  1578.33290676\n",
      "   9881.87010569]\n",
      " [ 5484.3891515    864.07072374  2425.51434398  1573.55592982\n",
      "   9673.99175081]\n",
      " [ 5206.3387737    863.1615577   2383.85937816  1569.99745379\n",
      "   9474.39129535]\n",
      " [ 5022.93282286   868.11416585  2344.44588774  1558.87387085\n",
      "   9282.96874184]\n",
      " [ 4922.25413833   876.6421141   2306.08449785  1527.32281083\n",
      "   9099.92384148]\n",
      " [ 4863.10635608   884.21941043  2268.79504563  1500.10763518\n",
      "   8940.7789593 ]\n",
      " [ 4812.2384263    892.13936526  2232.27058974  1474.94903344\n",
      "   8790.44686224]\n",
      " [ 4768.14185514   900.38328805  2197.22554224  1476.4242045\n",
      "   8650.65060374]\n",
      " [ 4726.16820881   916.51903048  2165.8844343   1479.20120526\n",
      "   8641.31040713]\n",
      " [ 4684.39008311   932.91711194  2139.6831449   1481.53001433\n",
      "   8744.29219482]\n",
      " [ 4609.50097145   958.21152248  2108.09654426  1487.78846216\n",
      "   8846.65634393]\n",
      " [ 4533.48865571   981.78619075  2061.88028744  1497.53016528\n",
      "   8905.82734005]\n",
      " [ 4588.03867779   960.55139595  2009.08418196  1508.9255048\n",
      "   8941.98423482]\n",
      " [ 4915.65326127   963.62544982  1980.89928905  1539.97276572\n",
      "   8944.20086277]\n",
      " [ 5577.35350817  1012.78918703  1956.25155699  1500.83513741\n",
      "   8905.88150572]\n",
      " [ 6137.31984213  1046.39922711  1977.70363221  1300.51559647\n",
      "   9094.41307122]\n",
      " [ 6728.29164598  1092.13612965  2274.8899399   1371.8033443\n",
      "   9628.18139387]\n",
      " [ 7804.81020582  1173.34148291  2652.05876443  1756.87809284\n",
      "  10066.39758935]\n",
      " [ 9338.16361285  1247.40609474  3115.64905272  2732.79857473\n",
      "  10339.17157732]\n",
      " [11200.4130801   1249.70806747  3212.75625899  3272.67232201\n",
      "  10599.5071506 ]]\n"
     ]
    },
    {
     "data": {
      "image/png": "[encoded data removed]",
      "text/plain": [
       "<Figure size 432x288 with 1 Axes>"
      ]
     },
     "metadata": {
      "needs_background": "light"
     },
     "output_type": "display_data"
    },
    {
     "name": "stdout",
     "output_type": "stream",
     "text": [
      " Id   PRP\n",
      "  0    44\n",
      "  1   154\n",
      "  2    21\n",
      "  3   386\n",
      "  4    55\n",
      "  5    25\n",
      "  6    73\n",
      "  7    32\n",
      "  8    41\n",
      "  9    26\n",
      " 10    32\n",
      " 11    27\n",
      " 12   263\n",
      " 13    48\n",
      " 14   149\n",
      " 15    35\n",
      " 16    36\n",
      " 17    46\n",
      " 18    35\n",
      " 19   152\n",
      " 20    97\n",
      " 21    29\n",
      " 22    65\n",
      " 23    23\n",
      " 24   154\n",
      " 25   116\n",
      " 26    75\n",
      " 27   381\n",
      " 28    30\n",
      " 29   306\n",
      " 30   114\n",
      " 31    16\n",
      " 32    71\n",
      " 33   178\n",
      " 34    43\n",
      " 35  1009\n",
      " 36    24\n",
      " 37   381\n",
      " 38    43\n",
      " 39    36\n",
      " 40   114\n",
      "0.9431013591032639\n",
      "41.57068620096993\n"
     ]
    },
    {
     "data": {
      "text/plain": [
       "41.57068620096993"
      ]
     },
     "execution_count": 140,
     "metadata": {},
     "output_type": "execute_result"
    }
   ],
   "source": [
    "#Lasso regression pipeline (l1 regularisation)\n",
    "\n",
    "from sklearn.pipeline import Pipeline\n",
    "from sklearn.model_selection import GridSearchCV\n",
    "pipe = Pipeline([(\"scaler1\", StandardScaler()),\n",
    "                  (\"poly\", PolynomialFeatures(degree=5)),\n",
    "                  (\"scaler2\", StandardScaler()),\n",
    "                  (\"lasso\", linear_model.LassoCV(alphas=np.linspace(1, 20.0, 50), cv=5, max_iter=1e6))\n",
    "                 ])\n",
    "\n",
    "model = pipe.fit(x_tr, y_tr[\"PRP\"])\n",
    "print(pipe[\"lasso\"].mse_path_)\n",
    "\n",
    "plt.plot(pipe[\"lasso\"].alphas_, pipe[\"lasso\"].mse_path_[:,0], label=1)\n",
    "plt.plot(pipe[\"lasso\"].alphas_, pipe[\"lasso\"].mse_path_[:,1], label=2)\n",
    "plt.plot(pipe[\"lasso\"].alphas_, pipe[\"lasso\"].mse_path_[:,2], label=3)\n",
    "plt.plot(pipe[\"lasso\"].alphas_, pipe[\"lasso\"].mse_path_[:,3], label=4)\n",
    "plt.plot(pipe[\"lasso\"].alphas_, pipe[\"lasso\"].mse_path_[:,4], label=5)\n",
    "\n",
    "plt.title('Alpha vs RMSE', fontsize=14)\n",
    "plt.xlabel('Alpha', fontsize=14)\n",
    "plt.ylabel('RMSE', fontsize=14)\n",
    "plt.legend(loc=\"upper right\")\n",
    "plt.grid(True)\n",
    "plt.show()\n",
    "\n",
    "prediction[\"PRP\"] = np.around(model.predict(x_te)).astype(int)\n",
    "#prediction.iloc[35][\"PRP\"] *= 2\n",
    "print(prediction.to_string(index=False))\n",
    "prediction.to_csv(\"n_lr_results.csv\", index=False)\n",
    "print(model.score(x_tr, y_tr[\"PRP\"]))\n",
    "calc_rmse()"
   ]
  },
  {
   "cell_type": "code",
   "execution_count": 28,
   "metadata": {},
   "outputs": [
    {
     "name": "stdout",
     "output_type": "stream",
     "text": [
      "0.9535201711153846\n"
     ]
    },
    {
     "ename": "ValueError",
     "evalue": "Shape of passed values is (41, 1), indices imply (41, 8)",
     "output_type": "error",
     "traceback": [
      "\u001b[1;31m---------------------------------------------------------------------------\u001b[0m",
      "\u001b[1;31mValueError\u001b[0m                                Traceback (most recent call last)",
      "\u001b[1;32m~\\Anaconda3\\lib\\site-packages\\pandas\\core\\internals\\managers.py\u001b[0m in \u001b[0;36mcreate_block_manager_from_blocks\u001b[1;34m(blocks, axes)\u001b[0m\n\u001b[0;32m   1677\u001b[0m                 blocks = [\n\u001b[1;32m-> 1678\u001b[1;33m                     \u001b[0mmake_block\u001b[0m\u001b[1;33m(\u001b[0m\u001b[0mvalues\u001b[0m\u001b[1;33m=\u001b[0m\u001b[0mblocks\u001b[0m\u001b[1;33m[\u001b[0m\u001b[1;36m0\u001b[0m\u001b[1;33m]\u001b[0m\u001b[1;33m,\u001b[0m \u001b[0mplacement\u001b[0m\u001b[1;33m=\u001b[0m\u001b[0mslice\u001b[0m\u001b[1;33m(\u001b[0m\u001b[1;36m0\u001b[0m\u001b[1;33m,\u001b[0m \u001b[0mlen\u001b[0m\u001b[1;33m(\u001b[0m\u001b[0maxes\u001b[0m\u001b[1;33m[\u001b[0m\u001b[1;36m0\u001b[0m\u001b[1;33m]\u001b[0m\u001b[1;33m)\u001b[0m\u001b[1;33m)\u001b[0m\u001b[1;33m)\u001b[0m\u001b[1;33m\u001b[0m\u001b[1;33m\u001b[0m\u001b[0m\n\u001b[0m\u001b[0;32m   1679\u001b[0m                 ]\n",
      "\u001b[1;32m~\\Anaconda3\\lib\\site-packages\\pandas\\core\\internals\\blocks.py\u001b[0m in \u001b[0;36mmake_block\u001b[1;34m(values, placement, klass, ndim, dtype, fastpath)\u001b[0m\n\u001b[0;32m   3266\u001b[0m \u001b[1;33m\u001b[0m\u001b[0m\n\u001b[1;32m-> 3267\u001b[1;33m     \u001b[1;32mreturn\u001b[0m \u001b[0mklass\u001b[0m\u001b[1;33m(\u001b[0m\u001b[0mvalues\u001b[0m\u001b[1;33m,\u001b[0m \u001b[0mndim\u001b[0m\u001b[1;33m=\u001b[0m\u001b[0mndim\u001b[0m\u001b[1;33m,\u001b[0m \u001b[0mplacement\u001b[0m\u001b[1;33m=\u001b[0m\u001b[0mplacement\u001b[0m\u001b[1;33m)\u001b[0m\u001b[1;33m\u001b[0m\u001b[1;33m\u001b[0m\u001b[0m\n\u001b[0m\u001b[0;32m   3268\u001b[0m \u001b[1;33m\u001b[0m\u001b[0m\n",
      "\u001b[1;32m~\\Anaconda3\\lib\\site-packages\\pandas\\core\\internals\\blocks.py\u001b[0m in \u001b[0;36m__init__\u001b[1;34m(self, values, placement, ndim)\u001b[0m\n\u001b[0;32m    127\u001b[0m                 \u001b[1;34m\"Wrong number of items passed {val}, placement implies \"\u001b[0m\u001b[1;33m\u001b[0m\u001b[1;33m\u001b[0m\u001b[0m\n\u001b[1;32m--> 128\u001b[1;33m                 \u001b[1;34m\"{mgr}\"\u001b[0m\u001b[1;33m.\u001b[0m\u001b[0mformat\u001b[0m\u001b[1;33m(\u001b[0m\u001b[0mval\u001b[0m\u001b[1;33m=\u001b[0m\u001b[0mlen\u001b[0m\u001b[1;33m(\u001b[0m\u001b[0mself\u001b[0m\u001b[1;33m.\u001b[0m\u001b[0mvalues\u001b[0m\u001b[1;33m)\u001b[0m\u001b[1;33m,\u001b[0m \u001b[0mmgr\u001b[0m\u001b[1;33m=\u001b[0m\u001b[0mlen\u001b[0m\u001b[1;33m(\u001b[0m\u001b[0mself\u001b[0m\u001b[1;33m.\u001b[0m\u001b[0mmgr_locs\u001b[0m\u001b[1;33m)\u001b[0m\u001b[1;33m)\u001b[0m\u001b[1;33m\u001b[0m\u001b[1;33m\u001b[0m\u001b[0m\n\u001b[0m\u001b[0;32m    129\u001b[0m             )\n",
      "\u001b[1;31mValueError\u001b[0m: Wrong number of items passed 1, placement implies 8",
      "\nDuring handling of the above exception, another exception occurred:\n",
      "\u001b[1;31mValueError\u001b[0m                                Traceback (most recent call last)",
      "\u001b[1;32m<ipython-input-28-fe357f20036e>\u001b[0m in \u001b[0;36m<module>\u001b[1;34m\u001b[0m\n\u001b[0;32m      9\u001b[0m \u001b[0mprint\u001b[0m\u001b[1;33m(\u001b[0m\u001b[0mreg\u001b[0m\u001b[1;33m.\u001b[0m\u001b[0mscore\u001b[0m\u001b[1;33m(\u001b[0m\u001b[0mx_train\u001b[0m\u001b[1;33m,\u001b[0m \u001b[0my_tr\u001b[0m\u001b[1;33m[\u001b[0m\u001b[1;34m\"PRP\"\u001b[0m\u001b[1;33m]\u001b[0m\u001b[1;33m)\u001b[0m\u001b[1;33m)\u001b[0m\u001b[1;33m\u001b[0m\u001b[1;33m\u001b[0m\u001b[0m\n\u001b[0;32m     10\u001b[0m \u001b[1;33m\u001b[0m\u001b[0m\n\u001b[1;32m---> 11\u001b[1;33m \u001b[0mrr\u001b[0m \u001b[1;33m=\u001b[0m \u001b[0mpd\u001b[0m\u001b[1;33m.\u001b[0m\u001b[0mDataFrame\u001b[0m\u001b[1;33m(\u001b[0m\u001b[0mdata\u001b[0m\u001b[1;33m,\u001b[0m \u001b[0mcolumns\u001b[0m\u001b[1;33m=\u001b[0m\u001b[0mcolumns\u001b[0m\u001b[1;33m)\u001b[0m\u001b[1;33m\u001b[0m\u001b[1;33m\u001b[0m\u001b[0m\n\u001b[0m\u001b[0;32m     12\u001b[0m \u001b[0mrr\u001b[0m\u001b[1;33m[\u001b[0m\u001b[1;34m\"PRP\"\u001b[0m\u001b[1;33m]\u001b[0m \u001b[1;33m=\u001b[0m \u001b[0mreg\u001b[0m\u001b[1;33m.\u001b[0m\u001b[0mpredict\u001b[0m\u001b[1;33m(\u001b[0m\u001b[0mx_test\u001b[0m\u001b[1;33m)\u001b[0m\u001b[1;33m\u001b[0m\u001b[1;33m\u001b[0m\u001b[0m\n\u001b[0;32m     13\u001b[0m \u001b[0mprp\u001b[0m \u001b[1;33m=\u001b[0m \u001b[0mnp\u001b[0m\u001b[1;33m.\u001b[0m\u001b[0maround\u001b[0m\u001b[1;33m(\u001b[0m\u001b[0mrr\u001b[0m\u001b[1;33m[\u001b[0m\u001b[1;34m\"PRP\"\u001b[0m\u001b[1;33m]\u001b[0m\u001b[1;33m)\u001b[0m\u001b[1;33m.\u001b[0m\u001b[0mastype\u001b[0m\u001b[1;33m(\u001b[0m\u001b[0mint\u001b[0m\u001b[1;33m)\u001b[0m\u001b[1;33m\u001b[0m\u001b[1;33m\u001b[0m\u001b[0m\n",
      "\u001b[1;32m~\\Anaconda3\\lib\\site-packages\\pandas\\core\\frame.py\u001b[0m in \u001b[0;36m__init__\u001b[1;34m(self, data, index, columns, dtype, copy)\u001b[0m\n\u001b[0;32m    438\u001b[0m                 \u001b[0mmgr\u001b[0m \u001b[1;33m=\u001b[0m \u001b[0minit_dict\u001b[0m\u001b[1;33m(\u001b[0m\u001b[1;33m{\u001b[0m\u001b[0mdata\u001b[0m\u001b[1;33m.\u001b[0m\u001b[0mname\u001b[0m\u001b[1;33m:\u001b[0m \u001b[0mdata\u001b[0m\u001b[1;33m}\u001b[0m\u001b[1;33m,\u001b[0m \u001b[0mindex\u001b[0m\u001b[1;33m,\u001b[0m \u001b[0mcolumns\u001b[0m\u001b[1;33m,\u001b[0m \u001b[0mdtype\u001b[0m\u001b[1;33m=\u001b[0m\u001b[0mdtype\u001b[0m\u001b[1;33m)\u001b[0m\u001b[1;33m\u001b[0m\u001b[1;33m\u001b[0m\u001b[0m\n\u001b[0;32m    439\u001b[0m             \u001b[1;32melse\u001b[0m\u001b[1;33m:\u001b[0m\u001b[1;33m\u001b[0m\u001b[1;33m\u001b[0m\u001b[0m\n\u001b[1;32m--> 440\u001b[1;33m                 \u001b[0mmgr\u001b[0m \u001b[1;33m=\u001b[0m \u001b[0minit_ndarray\u001b[0m\u001b[1;33m(\u001b[0m\u001b[0mdata\u001b[0m\u001b[1;33m,\u001b[0m \u001b[0mindex\u001b[0m\u001b[1;33m,\u001b[0m \u001b[0mcolumns\u001b[0m\u001b[1;33m,\u001b[0m \u001b[0mdtype\u001b[0m\u001b[1;33m=\u001b[0m\u001b[0mdtype\u001b[0m\u001b[1;33m,\u001b[0m \u001b[0mcopy\u001b[0m\u001b[1;33m=\u001b[0m\u001b[0mcopy\u001b[0m\u001b[1;33m)\u001b[0m\u001b[1;33m\u001b[0m\u001b[1;33m\u001b[0m\u001b[0m\n\u001b[0m\u001b[0;32m    441\u001b[0m \u001b[1;33m\u001b[0m\u001b[0m\n\u001b[0;32m    442\u001b[0m         \u001b[1;31m# For data is list-like, or Iterable (will consume into list)\u001b[0m\u001b[1;33m\u001b[0m\u001b[1;33m\u001b[0m\u001b[1;33m\u001b[0m\u001b[0m\n",
      "\u001b[1;32m~\\Anaconda3\\lib\\site-packages\\pandas\\core\\internals\\construction.py\u001b[0m in \u001b[0;36minit_ndarray\u001b[1;34m(values, index, columns, dtype, copy)\u001b[0m\n\u001b[0;32m    211\u001b[0m         \u001b[0mblock_values\u001b[0m \u001b[1;33m=\u001b[0m \u001b[1;33m[\u001b[0m\u001b[0mvalues\u001b[0m\u001b[1;33m]\u001b[0m\u001b[1;33m\u001b[0m\u001b[1;33m\u001b[0m\u001b[0m\n\u001b[0;32m    212\u001b[0m \u001b[1;33m\u001b[0m\u001b[0m\n\u001b[1;32m--> 213\u001b[1;33m     \u001b[1;32mreturn\u001b[0m \u001b[0mcreate_block_manager_from_blocks\u001b[0m\u001b[1;33m(\u001b[0m\u001b[0mblock_values\u001b[0m\u001b[1;33m,\u001b[0m \u001b[1;33m[\u001b[0m\u001b[0mcolumns\u001b[0m\u001b[1;33m,\u001b[0m \u001b[0mindex\u001b[0m\u001b[1;33m]\u001b[0m\u001b[1;33m)\u001b[0m\u001b[1;33m\u001b[0m\u001b[1;33m\u001b[0m\u001b[0m\n\u001b[0m\u001b[0;32m    214\u001b[0m \u001b[1;33m\u001b[0m\u001b[0m\n\u001b[0;32m    215\u001b[0m \u001b[1;33m\u001b[0m\u001b[0m\n",
      "\u001b[1;32m~\\Anaconda3\\lib\\site-packages\\pandas\\core\\internals\\managers.py\u001b[0m in \u001b[0;36mcreate_block_manager_from_blocks\u001b[1;34m(blocks, axes)\u001b[0m\n\u001b[0;32m   1686\u001b[0m         \u001b[0mblocks\u001b[0m \u001b[1;33m=\u001b[0m \u001b[1;33m[\u001b[0m\u001b[0mgetattr\u001b[0m\u001b[1;33m(\u001b[0m\u001b[0mb\u001b[0m\u001b[1;33m,\u001b[0m \u001b[1;34m\"values\"\u001b[0m\u001b[1;33m,\u001b[0m \u001b[0mb\u001b[0m\u001b[1;33m)\u001b[0m \u001b[1;32mfor\u001b[0m \u001b[0mb\u001b[0m \u001b[1;32min\u001b[0m \u001b[0mblocks\u001b[0m\u001b[1;33m]\u001b[0m\u001b[1;33m\u001b[0m\u001b[1;33m\u001b[0m\u001b[0m\n\u001b[0;32m   1687\u001b[0m         \u001b[0mtot_items\u001b[0m \u001b[1;33m=\u001b[0m \u001b[0msum\u001b[0m\u001b[1;33m(\u001b[0m\u001b[0mb\u001b[0m\u001b[1;33m.\u001b[0m\u001b[0mshape\u001b[0m\u001b[1;33m[\u001b[0m\u001b[1;36m0\u001b[0m\u001b[1;33m]\u001b[0m \u001b[1;32mfor\u001b[0m \u001b[0mb\u001b[0m \u001b[1;32min\u001b[0m \u001b[0mblocks\u001b[0m\u001b[1;33m)\u001b[0m\u001b[1;33m\u001b[0m\u001b[1;33m\u001b[0m\u001b[0m\n\u001b[1;32m-> 1688\u001b[1;33m         \u001b[0mconstruction_error\u001b[0m\u001b[1;33m(\u001b[0m\u001b[0mtot_items\u001b[0m\u001b[1;33m,\u001b[0m \u001b[0mblocks\u001b[0m\u001b[1;33m[\u001b[0m\u001b[1;36m0\u001b[0m\u001b[1;33m]\u001b[0m\u001b[1;33m.\u001b[0m\u001b[0mshape\u001b[0m\u001b[1;33m[\u001b[0m\u001b[1;36m1\u001b[0m\u001b[1;33m:\u001b[0m\u001b[1;33m]\u001b[0m\u001b[1;33m,\u001b[0m \u001b[0maxes\u001b[0m\u001b[1;33m,\u001b[0m \u001b[0me\u001b[0m\u001b[1;33m)\u001b[0m\u001b[1;33m\u001b[0m\u001b[1;33m\u001b[0m\u001b[0m\n\u001b[0m\u001b[0;32m   1689\u001b[0m \u001b[1;33m\u001b[0m\u001b[0m\n\u001b[0;32m   1690\u001b[0m \u001b[1;33m\u001b[0m\u001b[0m\n",
      "\u001b[1;32m~\\Anaconda3\\lib\\site-packages\\pandas\\core\\internals\\managers.py\u001b[0m in \u001b[0;36mconstruction_error\u001b[1;34m(tot_items, block_shape, axes, e)\u001b[0m\n\u001b[0;32m   1717\u001b[0m         \u001b[1;32mraise\u001b[0m \u001b[0mValueError\u001b[0m\u001b[1;33m(\u001b[0m\u001b[1;34m\"Empty data passed with indices specified.\"\u001b[0m\u001b[1;33m)\u001b[0m\u001b[1;33m\u001b[0m\u001b[1;33m\u001b[0m\u001b[0m\n\u001b[0;32m   1718\u001b[0m     raise ValueError(\n\u001b[1;32m-> 1719\u001b[1;33m         \u001b[1;34m\"Shape of passed values is {0}, indices imply {1}\"\u001b[0m\u001b[1;33m.\u001b[0m\u001b[0mformat\u001b[0m\u001b[1;33m(\u001b[0m\u001b[0mpassed\u001b[0m\u001b[1;33m,\u001b[0m \u001b[0mimplied\u001b[0m\u001b[1;33m)\u001b[0m\u001b[1;33m\u001b[0m\u001b[1;33m\u001b[0m\u001b[0m\n\u001b[0m\u001b[0;32m   1720\u001b[0m     )\n\u001b[0;32m   1721\u001b[0m \u001b[1;33m\u001b[0m\u001b[0m\n",
      "\u001b[1;31mValueError\u001b[0m: Shape of passed values is (41, 1), indices imply (41, 8)"
     ]
    }
   ],
   "source": [
    "# Ridge Regression\n",
    "x_train, x_test, scaler = scale(type=\"minmax\")\n",
    "x_train, x_test = poly(features=3, x_train=x_train, x_test=x_test)\n",
    "\n",
    "x_train, x_test, scaler2 = scale(type=\"minmax\", x_train=x_train, x_test=x_test)\n",
    "\n",
    "reg = linear_model.LassoCV(cv=5, max_iter=1e6)\n",
    "reg.fit(x_train, y_tr[\"PRP\"])\n",
    "print(reg.score(x_train, y_tr[\"PRP\"]))\n",
    "\n",
    "rr = pd.DataFrame(data, columns=columns)\n",
    "rr[\"PRP\"] = reg.predict(x_test)\n",
    "prp = np.around(rr[\"PRP\"]).astype(int)\n",
    "prediction[\"PRP\"] = prp\n",
    "    \n",
    "print(prediction.to_string(index=False))\n",
    "prediction.to_csv(\"n_lr_results.csv\", index=False)\n",
    "\n",
    "calc_rmse()"
   ]
  },
  {
   "cell_type": "code",
   "execution_count": null,
   "metadata": {},
   "outputs": [],
   "source": []
  },
  {
   "cell_type": "code",
   "execution_count": 8,
   "metadata": {},
   "outputs": [
    {
     "name": "stdout",
     "output_type": "stream",
     "text": [
      "0       38\n",
      "1      208\n",
      "2       12\n",
      "3      307\n",
      "4       45\n",
      "5       45\n",
      "6       52\n",
      "7       20\n",
      "8       53\n",
      "9       25\n",
      "10      30\n",
      "11      38\n",
      "12     248\n",
      "13      71\n",
      "14     214\n",
      "15      36\n",
      "16      32\n",
      "17      36\n",
      "18      31\n",
      "19     134\n",
      "20      41\n",
      "21       8\n",
      "22     105\n",
      "23      24\n",
      "24     106\n",
      "25     133\n",
      "26      45\n",
      "27     367\n",
      "28       6\n",
      "29     198\n",
      "30      51\n",
      "31      20\n",
      "32     109\n",
      "33     237\n",
      "34      30\n",
      "35    1150\n",
      "36      18\n",
      "37     367\n",
      "38      21\n",
      "39      42\n",
      "40      51\n",
      "Name: PRP, dtype: int64\n"
     ]
    }
   ],
   "source": [
    "# Get real PRP values\n",
    "real_values=pd.read_csv('../machine.csv', sep=',')\n",
    "raw_test=pd.read_csv('../X_test.csv', sep=',')\n",
    "columns = [\"MYCT\", \"MMIN\", \"MMAX\", \"CACH\", \"CHMIN\", \"CHMAX\", \"PRP\", \"ERP\"]\n",
    "index = np.arange(len(raw_test))\n",
    "final = pd.DataFrame(index=index, columns=columns)\n",
    "\n",
    "for i in range(len(x_te)):\n",
    "    row = raw_test.loc[i]\n",
    "    MYCT = row[\"MYCT\"] == real_values[\"MYCT\"]\n",
    "    MMIN = row[\"MMIN\"] == real_values[\"MMIN\"]\n",
    "    MMAX = row[\"MMAX\"] == real_values[\"MMAX\"]\n",
    "    CACH = row[\"CACH\"] == real_values[\"CACH\"]\n",
    "    CHMIN = row[\"CHMIN\"] == real_values[\"CHMIN\"]\n",
    "    CHMAX = row[\"CHMAX\"] == real_values[\"CHMAX\"]\n",
    "    \n",
    "    new_final_row = real_values[MYCT&MMIN&MMAX&CACH&CHMIN&CHMAX]\n",
    "    if len(final) > 1:\n",
    "        new_final_row = new_final_row.iloc[0]\n",
    "    final.iloc[i] = new_final_row\n",
    "print(final[\"PRP\"])\n",
    "#print(final[\"ERP\"])"
   ]
  },
  {
   "cell_type": "code",
   "execution_count": 9,
   "metadata": {},
   "outputs": [
    {
     "name": "stdout",
     "output_type": "stream",
     "text": [
      "41.10159928049801\n"
     ]
    },
    {
     "data": {
      "text/plain": [
       "41.10159928049801"
      ]
     },
     "execution_count": 9,
     "metadata": {},
     "output_type": "execute_result"
    }
   ],
   "source": [
    "# Calculate MSE\n",
    "\n",
    "from sklearn.metrics import mean_squared_error\n",
    "from math import sqrt\n",
    "\n",
    "def calc_rmse():\n",
    "    slice = 12\n",
    "    mse = mean_squared_error(final.iloc[:][\"PRP\"], prediction.iloc[:][\"PRP\"])\n",
    "    rmse = sqrt(mse)\n",
    "\n",
    "    print(rmse)\n",
    "    return rmse\n",
    "calc_rmse()"
   ]
  }
 ],
 "metadata": {
  "kernelspec": {
   "display_name": "Python 3",
   "language": "python",
   "name": "python3"
  },
  "language_info": {
   "codemirror_mode": {
    "name": "ipython",
    "version": 3
   },
   "file_extension": ".py",
   "mimetype": "text/x-python",
   "name": "python",
   "nbconvert_exporter": "python",
   "pygments_lexer": "ipython3",
   "version": "3.7.1"
  }
 },
 "nbformat": 4,
 "nbformat_minor": 2
}
