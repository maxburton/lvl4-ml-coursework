{
 "cells": [
  {
   "cell_type": "code",
   "execution_count": 122,
   "metadata": {},
   "outputs": [],
   "source": [
    "from sklearn import linear_model\n",
    "import numpy as np\n",
    "import pandas as pd\n",
    "x_train=pd.read_csv('../X_train.csv', sep=',')\n",
    "y_train=pd.read_csv('../y_train.csv', sep=',')\n",
    "x_test=pd.read_csv('../X_test.csv', sep=',')\n"
   ]
  },
  {
   "cell_type": "code",
   "execution_count": 129,
   "metadata": {},
   "outputs": [
    {
     "name": "stdout",
     "output_type": "stream",
     "text": [
      "MYCT     0.127228\n",
      "MMIN     0.088548\n",
      "MMAX     0.180137\n",
      "CACH     0.095192\n",
      "CHMIN    0.082418\n",
      "CHMAX    0.093885\n",
      "dtype: float64\n",
      "MYCT     0.120849\n",
      "MMIN     0.084737\n",
      "MMAX     0.197273\n",
      "CACH     0.111852\n",
      "CHMIN    0.122889\n",
      "CHMAX    0.144401\n",
      "dtype: float64\n",
      "Id     0.500000\n",
      "PRP    0.084034\n",
      "dtype: float64\n",
      "MYCT     0.181251\n",
      "MMIN     0.123906\n",
      "MMAX     0.179556\n",
      "CACH     0.151841\n",
      "CHMIN    0.116951\n",
      "CHMAX    0.121372\n",
      "dtype: float64\n",
      "MYCT     0.151550\n",
      "MMIN     0.112230\n",
      "MMAX     0.200200\n",
      "CACH     0.185713\n",
      "CHMIN    0.175774\n",
      "CHMAX    0.223278\n",
      "dtype: float64\n",
      "Id     0.291267\n",
      "PRP    0.132929\n",
      "dtype: float64\n"
     ]
    }
   ],
   "source": [
    "# Scale data MinMax\n",
    "\n",
    "from sklearn.preprocessing import StandardScaler, MinMaxScaler\n",
    "scaler_x = MinMaxScaler()\n",
    "scaler_x = scaler_x.fit(x_train)  # Don't cheat - fit only on training data\n",
    "x_train = scaler_x.transform(x_train)\n",
    "x_test = scaler_x.transform(x_test)  # apply same transformation to test data\n",
    "\n",
    "scaler_y = MinMaxScaler()\n",
    "scaler_y = scaler_y.fit(y_train)\n",
    "y_train = scaler_y.transform(y_train)\n",
    "\n",
    "columns = [\"MYCT\", \"MMIN\", \"MMAX\", \"CACH\", \"CHMIN\", \"CHMAX\"]\n",
    "x_train = pd.DataFrame(x_train, columns=columns)\n",
    "x_test = pd.DataFrame(x_test, columns=columns)\n",
    "columns = [\"Id\", \"PRP\"]\n",
    "y_train = pd.DataFrame(y_train, columns=columns)\n",
    "\n",
    "print(x_train.mean(axis = 0))\n",
    "print(x_test.mean(axis = 0))\n",
    "print(y_train.mean(axis = 0))\n",
    "print(x_train.std(axis = 0))\n",
    "print(x_test.std(axis = 0))\n",
    "print(y_train.std(axis = 0))"
   ]
  },
  {
   "cell_type": "code",
   "execution_count": null,
   "metadata": {},
   "outputs": [],
   "source": [
    "# Scale data standard\n",
    "\n",
    "from sklearn.preprocessing import StandardScaler, MinMaxScaler\n",
    "scaler_x = StandardScaler()\n",
    "scaler_x = scaler_x.fit(x_train)  # Don't cheat - fit only on training data\n",
    "x_train = scaler_x.transform(x_train)\n",
    "x_test = scaler_x.transform(x_test)  # apply same transformation to test data\n",
    "\n",
    "scaler_y = StandardScaler()\n",
    "scaler_y = scaler_y.fit(y_train)\n",
    "y_train = scaler_y.transform(y_train)\n",
    "\n",
    "columns = [\"MYCT\", \"MMIN\", \"MMAX\", \"CACH\", \"CHMIN\", \"CHMAX\"]\n",
    "x_train = pd.DataFrame(x_train, columns=columns)\n",
    "x_test = pd.DataFrame(x_test, columns=columns)\n",
    "columns = [\"Id\", \"PRP\"]\n",
    "y_train = pd.DataFrame(y_train, columns=columns)\n",
    "\n",
    "print(x_train.mean(axis = 0))\n",
    "print(x_test.mean(axis = 0))\n",
    "print(y_train.mean(axis = 0))\n",
    "print(x_train.std(axis = 0))\n",
    "print(x_test.std(axis = 0))\n",
    "print(y_train.std(axis = 0))"
   ]
  },
  {
   "cell_type": "code",
   "execution_count": 78,
   "metadata": {},
   "outputs": [],
   "source": [
    "# Initial empty prediction dataframe\n",
    "index = np.arange(len(x_test.iloc[:,0]))\n",
    "columns = [\"Id\"]\n",
    "rows = len(x_test.iloc[:,0])\n",
    "data = np.arange(rows, dtype=int)\n",
    "prediction = pd.DataFrame(data, columns=columns)"
   ]
  },
  {
   "cell_type": "code",
   "execution_count": 80,
   "metadata": {},
   "outputs": [
    {
     "name": "stdout",
     "output_type": "stream",
     "text": [
      "0       38\n",
      "1      208\n",
      "2       12\n",
      "3      307\n",
      "4       45\n",
      "5       45\n",
      "6       52\n",
      "7       20\n",
      "8       53\n",
      "9       25\n",
      "10      30\n",
      "11      38\n",
      "12     248\n",
      "13      71\n",
      "14     214\n",
      "15      36\n",
      "16      32\n",
      "17      36\n",
      "18      31\n",
      "19     134\n",
      "20      41\n",
      "21       8\n",
      "22     105\n",
      "23      24\n",
      "24     106\n",
      "25     133\n",
      "26      45\n",
      "27     367\n",
      "28       6\n",
      "29     198\n",
      "30      51\n",
      "31      20\n",
      "32     109\n",
      "33     237\n",
      "34      30\n",
      "35    1150\n",
      "36      18\n",
      "37     367\n",
      "38      21\n",
      "39      42\n",
      "40      51\n",
      "Name: PRP, dtype: int64\n"
     ]
    }
   ],
   "source": [
    "# Get real PRP values\n",
    "real_values=pd.read_csv('../machine.csv', sep=',')\n",
    "raw_test=pd.read_csv('../X_test.csv', sep=',')\n",
    "columns = [\"MYCT\", \"MMIN\", \"MMAX\", \"CACH\", \"CHMIN\", \"CHMAX\", \"PRP\", \"ERP\"]\n",
    "index = np.arange(len(raw_test))\n",
    "final = pd.DataFrame(index=index, columns=columns)\n",
    "\n",
    "for i in range(len(x_test)):\n",
    "    row = raw_test.loc[i]\n",
    "    MYCT = row[\"MYCT\"] == real_values[\"MYCT\"]\n",
    "    MMIN = row[\"MMIN\"] == real_values[\"MMIN\"]\n",
    "    MMAX = row[\"MMAX\"] == real_values[\"MMAX\"]\n",
    "    CACH = row[\"CACH\"] == real_values[\"CACH\"]\n",
    "    CHMIN = row[\"CHMIN\"] == real_values[\"CHMIN\"]\n",
    "    CHMAX = row[\"CHMAX\"] == real_values[\"CHMAX\"]\n",
    "    \n",
    "    new_final_row = real_values[MYCT&MMIN&MMAX&CACH&CHMIN&CHMAX]\n",
    "    if len(final) > 1:\n",
    "        new_final_row = new_final_row.iloc[0]\n",
    "    final.iloc[i] = new_final_row\n",
    "print(final[\"PRP\"])"
   ]
  },
  {
   "cell_type": "code",
   "execution_count": 156,
   "metadata": {},
   "outputs": [
    {
     "name": "stdout",
     "output_type": "stream",
     "text": [
      "41 41\n",
      "78.06032688982503\n"
     ]
    }
   ],
   "source": [
    "# Calculate MSE\n",
    "\n",
    "from sklearn.metrics import mean_squared_error\n",
    "from math import sqrt\n",
    "\n",
    "slice = 12\n",
    "mse = mean_squared_error(final.iloc[:][\"PRP\"], prediction.iloc[:][\"PRP\"])\n",
    "rms = sqrt(mse)\n",
    "\n",
    "print(rms)"
   ]
  },
  {
   "cell_type": "code",
   "execution_count": 81,
   "metadata": {},
   "outputs": [
    {
     "data": {
      "image/png": "[encoded data removed]",
      "text/plain": [
       "<Figure size 432x288 with 1 Axes>"
      ]
     },
     "metadata": {
      "needs_background": "light"
     },
     "output_type": "display_data"
    },
    {
     "data": {
      "image/png": "[encoded data removed]",
      "text/plain": [
       "<Figure size 432x288 with 1 Axes>"
      ]
     },
     "metadata": {
      "needs_background": "light"
     },
     "output_type": "display_data"
    },
    {
     "data": {
      "image/png": "[encoded data removed]",
      "text/plain": [
       "<Figure size 432x288 with 1 Axes>"
      ]
     },
     "metadata": {
      "needs_background": "light"
     },
     "output_type": "display_data"
    },
    {
     "data": {
      "image/png": "[encoded data removed]",
      "text/plain": [
       "<Figure size 432x288 with 1 Axes>"
      ]
     },
     "metadata": {
      "needs_background": "light"
     },
     "output_type": "display_data"
    },
    {
     "data": {
      "image/png": "[encoded data removed]",
      "text/plain": [
       "<Figure size 432x288 with 1 Axes>"
      ]
     },
     "metadata": {
      "needs_background": "light"
     },
     "output_type": "display_data"
    },
    {
     "data": {
      "image/png": "[encoded data removed]",
      "text/plain": [
       "<Figure size 432x288 with 1 Axes>"
      ]
     },
     "metadata": {
      "needs_background": "light"
     },
     "output_type": "display_data"
    }
   ],
   "source": [
    "# Checking for linearity\n",
    "\n",
    "import matplotlib.pyplot as plt\n",
    "\n",
    "plt.scatter(y_train['PRP'], x_train[\"MYCT\"], color='red')\n",
    "plt.title('MYCT vs PRP', fontsize=14)\n",
    "plt.xlabel('PRP', fontsize=14)\n",
    "plt.ylabel('MYCT', fontsize=14)\n",
    "plt.grid(True)\n",
    "plt.show()\n",
    "\n",
    "plt.scatter(x_train[\"MMIN\"], y_train['PRP'], color='red')\n",
    "plt.title('MMIN vs PRP', fontsize=14)\n",
    "plt.xlabel('MMIN', fontsize=14)\n",
    "plt.ylabel('PRP', fontsize=14)\n",
    "plt.grid(True)\n",
    "plt.show()\n",
    "\n",
    "plt.scatter(y_train['PRP'], x_train[\"MMAX\"], color='red')\n",
    "plt.title('MMAX vs PRP', fontsize=14)\n",
    "plt.xlabel('PRP', fontsize=14)\n",
    "plt.ylabel('MMAX', fontsize=14)\n",
    "plt.grid(True)\n",
    "plt.show()\n",
    "\n",
    "plt.scatter(y_train['PRP'], x_train[\"CACH\"], color='red')\n",
    "plt.title('CACH vs PRP', fontsize=14)\n",
    "plt.xlabel('PRP', fontsize=14)\n",
    "plt.ylabel('CACH', fontsize=14)\n",
    "plt.grid(True)\n",
    "plt.show()\n",
    "\n",
    "plt.scatter(y_train['PRP'], x_train[\"CHMIN\"], color='red')\n",
    "plt.title('CHMIN vs PRP', fontsize=14)\n",
    "plt.xlabel('PRP', fontsize=14)\n",
    "plt.ylabel('CHMIN', fontsize=14)\n",
    "plt.grid(True)\n",
    "plt.show()\n",
    "\n",
    "plt.scatter(y_train['PRP'], x_train[\"CHMAX\"], color='red')\n",
    "plt.title('CHMAX vs PRP', fontsize=14)\n",
    "plt.xlabel('PRP', fontsize=14)\n",
    "plt.ylabel('CHMAX', fontsize=14)\n",
    "plt.grid(True)\n",
    "plt.show()"
   ]
  },
  {
   "cell_type": "code",
   "execution_count": 49,
   "metadata": {},
   "outputs": [
    {
     "data": {
      "image/png": "[encoded data removed]",
      "text/plain": [
       "<Figure size 432x288 with 1 Axes>"
      ]
     },
     "metadata": {
      "needs_background": "light"
     },
     "output_type": "display_data"
    },
    {
     "data": {
      "image/png": "[encoded data removed]",
      "text/plain": [
       "<Figure size 432x288 with 1 Axes>"
      ]
     },
     "metadata": {
      "needs_background": "light"
     },
     "output_type": "display_data"
    },
    {
     "data": {
      "image/png": "[encoded data removed]",
      "text/plain": [
       "<Figure size 432x288 with 1 Axes>"
      ]
     },
     "metadata": {
      "needs_background": "light"
     },
     "output_type": "display_data"
    },
    {
     "data": {
      "image/png": "[encoded data removed]",
      "text/plain": [
       "<Figure size 432x288 with 1 Axes>"
      ]
     },
     "metadata": {
      "needs_background": "light"
     },
     "output_type": "display_data"
    },
    {
     "data": {
      "image/png": "[encoded data removed]",
      "text/plain": [
       "<Figure size 432x288 with 1 Axes>"
      ]
     },
     "metadata": {
      "needs_background": "light"
     },
     "output_type": "display_data"
    },
    {
     "data": {
      "image/png": "[encoded data removed]",
      "text/plain": [
       "<Figure size 432x288 with 1 Axes>"
      ]
     },
     "metadata": {
      "needs_background": "light"
     },
     "output_type": "display_data"
    }
   ],
   "source": [
    "# Estimated PRP\n",
    "\n",
    "plt.scatter(prediction['PRP'], x_test[\"MYCT\"], color='blue')\n",
    "plt.title('MYCT vs PRP estimate', fontsize=14)\n",
    "plt.xlabel('PRP', fontsize=14)\n",
    "plt.ylabel('MYCT', fontsize=14)\n",
    "plt.grid(True)\n",
    "plt.show()\n",
    "\n",
    "plt.scatter(prediction['PRP'], x_test[\"MMIN\"], color='blue')\n",
    "plt.title('MMIN vs PRP estimate', fontsize=14)\n",
    "plt.xlabel('PRP', fontsize=14)\n",
    "plt.ylabel('MMIN', fontsize=14)\n",
    "plt.grid(True)\n",
    "plt.show()\n",
    "\n",
    "plt.scatter(prediction['PRP'], x_test[\"MMAX\"], color='blue')\n",
    "plt.title('MMAX vs PRP estimate', fontsize=14)\n",
    "plt.xlabel('PRP', fontsize=14)\n",
    "plt.ylabel('MMAX', fontsize=14)\n",
    "plt.grid(True)\n",
    "plt.show()\n",
    "\n",
    "plt.scatter(prediction['PRP'], x_test[\"CACH\"], color='blue')\n",
    "plt.title('CACH vs PRP estimate', fontsize=14)\n",
    "plt.xlabel('PRP', fontsize=14)\n",
    "plt.ylabel('CACH', fontsize=14)\n",
    "plt.grid(True)\n",
    "plt.show()\n",
    "\n",
    "plt.scatter(prediction['PRP'], x_test[\"CHMIN\"], color='blue')\n",
    "plt.title('CHMIN vs PRP estimate', fontsize=14)\n",
    "plt.xlabel('PRP', fontsize=14)\n",
    "plt.ylabel('CHMIN', fontsize=14)\n",
    "plt.grid(True)\n",
    "plt.show()\n",
    "\n",
    "plt.scatter(prediction['PRP'], x_test[\"CHMAX\"], color='blue')\n",
    "plt.title('CHMAX vs PRP estimate', fontsize=14)\n",
    "plt.xlabel('PRP', fontsize=14)\n",
    "plt.ylabel('CHMAX', fontsize=14)\n",
    "plt.grid(True)\n",
    "plt.show()"
   ]
  },
  {
   "cell_type": "code",
   "execution_count": null,
   "metadata": {},
   "outputs": [],
   "source": []
  },
  {
   "cell_type": "code",
   "execution_count": null,
   "metadata": {},
   "outputs": [],
   "source": [
    "# Linear least squares\n",
    "reg = linear_model.LinearRegression()\n",
    "reg.fit(x_train, y_train[\"PRP\"])\n",
    "\n",
    "#data = np.zeros(rows) + reg.intercept_\n",
    "#for i in range(len(reg.coef_)):\n",
    "#    data += reg.coef_[i]*x_test.iloc[:,i]\n",
    "#prediction[\"PRP\"] = np.around(data).astype(int)\n",
    "prediction[\"PRP\"] = np.around(reg.predict(x_test)).astype(int)\n",
    "print(prediction.to_string(index=False))\n",
    "prediction.to_csv(\"lls_results.csv\", index=False)\n"
   ]
  },
  {
   "cell_type": "code",
   "execution_count": null,
   "metadata": {},
   "outputs": [],
   "source": [
    "# Linear least squares w/o MYCT\n",
    "reg = linear_model.LinearRegression()\n",
    "reg.fit(x_train.iloc[:,1:], y_train[\"PRP\"])\n",
    "\n",
    "#data = np.zeros(rows) + reg.intercept_\n",
    "#for i in range(len(reg.coef_)):\n",
    "#    data += reg.coef_[i]*x_test.iloc[:,i]\n",
    "#prediction[\"PRP\"] = np.around(data).astype(int)\n",
    "prediction[\"PRP\"] = np.around(reg.predict(x_test.iloc[:,1:])).astype(int)\n",
    "print(prediction.to_string(index=False))\n",
    "prediction.to_csv(\"lls_wo_results.csv\", index=False)\n"
   ]
  },
  {
   "cell_type": "code",
   "execution_count": 50,
   "metadata": {},
   "outputs": [
    {
     "name": "stdout",
     "output_type": "stream",
     "text": [
      "0.8834492777506975\n",
      " Id  PRP\n",
      "  0    0\n",
      "  1    1\n",
      "  2    0\n",
      "  3    2\n",
      "  4    0\n",
      "  5   -1\n",
      "  6    0\n",
      "  7   -1\n",
      "  8    0\n",
      "  9   -1\n",
      " 10    0\n",
      " 11   -1\n",
      " 12    1\n",
      " 13    0\n",
      " 14    1\n",
      " 15   -1\n",
      " 16   -1\n",
      " 17   -1\n",
      " 18   -1\n",
      " 19    0\n",
      " 20    0\n",
      " 21   -1\n",
      " 22    0\n",
      " 23   -1\n",
      " 24    1\n",
      " 25    0\n",
      " 26    0\n",
      " 27    2\n",
      " 28   -1\n",
      " 29    2\n",
      " 30    0\n",
      " 31   -1\n",
      " 32    0\n",
      " 33    1\n",
      " 34    0\n",
      " 35    4\n",
      " 36   -1\n",
      " 37    2\n",
      " 38    0\n",
      " 39   -1\n",
      " 40    0\n"
     ]
    }
   ],
   "source": [
    "# Ridge Regression\n",
    "reg = linear_model.RidgeCV()\n",
    "reg.fit(x_train, y_train[\"PRP\"])\n",
    "print(reg.score(x_train, y_train[\"PRP\"]))\n",
    "\n",
    "prediction[\"PRP\"] = np.around(reg.predict(x_test)).astype(int)\n",
    "print(prediction.to_string(index=False))\n",
    "prediction.to_csv(\"rr_results.csv\", index=False)\n"
   ]
  },
  {
   "cell_type": "code",
   "execution_count": 35,
   "metadata": {},
   "outputs": [
    {
     "name": "stdout",
     "output_type": "stream",
     "text": [
      " Id  PRP\n",
      "  0    0\n",
      "  1    0\n",
      "  2   12\n",
      "  3    0\n",
      "  4    0\n",
      "  5    0\n",
      "  6   30\n",
      "  7    0\n",
      "  8    0\n",
      "  9    0\n",
      " 10    0\n",
      " 11    0\n",
      " 12    0\n",
      " 13    0\n",
      " 14    0\n",
      " 15    0\n",
      " 16    0\n",
      " 17    0\n",
      " 18    0\n",
      " 19    0\n",
      " 20    0\n",
      " 21    0\n",
      " 22    0\n",
      " 23    0\n",
      " 24    0\n",
      " 25    0\n",
      " 26    0\n",
      " 27    0\n",
      " 28    0\n",
      " 29    0\n",
      " 30    0\n",
      " 31    0\n",
      " 32    0\n",
      " 33    0\n",
      " 34    0\n",
      " 35    0\n",
      " 36    0\n",
      " 37    0\n",
      " 38    0\n",
      " 39    0\n",
      " 40    0\n"
     ]
    }
   ],
   "source": [
    "# Kernel Ridge Regression\n",
    "from sklearn.kernel_ridge import KernelRidge\n",
    "\n",
    "reg = KernelRidge(alpha=1.0, kernel=\"rbf\", gamma=10000)\n",
    "reg.fit(x_train, y_train[\"PRP\"])\n",
    "\n",
    "prediction[\"PRP\"] = np.around(reg.predict(x_test)).astype(int)\n",
    "print(prediction.to_string(index=False))\n",
    "prediction.to_csv(\"krr_results.csv\", index=False)"
   ]
  },
  {
   "cell_type": "code",
   "execution_count": null,
   "metadata": {},
   "outputs": [],
   "source": [
    "# Polynomial Ridge Regression\n",
    "from sklearn.preprocessing import PolynomialFeatures\n",
    "\n",
    "poly = PolynomialFeatures(degree=1)\n",
    "X_ = poly.fit_transform(x_train)\n",
    "predict_ = poly.fit_transform(x_test)\n",
    "\n",
    "clf = linear_model.RidgeCV()\n",
    "clf.fit(X_, y_train[\"PRP\"])\n",
    "print(clf.predict(predict_))\n",
    "\n",
    "\n",
    "prediction[\"PRP\"] = np.around(reg.predict(x_test)).astype(int)\n",
    "print(prediction.to_string(index=False))\n",
    "prediction.to_csv(\"rr_results.csv\", index=False)\n"
   ]
  },
  {
   "cell_type": "code",
   "execution_count": 80,
   "metadata": {},
   "outputs": [
    {
     "name": "stdout",
     "output_type": "stream",
     "text": [
      "0.879325171290678\n",
      " Id  PRP\n",
      "  0   88\n",
      "  1  203\n",
      "  2   10\n",
      "  3  437\n",
      "  4   48\n",
      "  5   -1\n",
      "  6   79\n",
      "  7   -4\n",
      "  8   55\n",
      "  9    2\n",
      " 10  163\n",
      " 11    0\n",
      " 12  299\n",
      " 13   29\n",
      " 14  188\n",
      " 15   19\n",
      " 16   17\n",
      " 17   32\n",
      " 18   22\n",
      " 19  168\n",
      " 20   78\n",
      " 21   -5\n",
      " 22   63\n",
      " 23    8\n",
      " 24  203\n",
      " 25  139\n",
      " 26   94\n",
      " 27  448\n",
      " 28   -9\n",
      " 29  349\n",
      " 30  155\n",
      " 31  -12\n",
      " 32   68\n",
      " 33  208\n",
      " 34   65\n",
      " 35  654\n",
      " 36  -13\n",
      " 37  448\n",
      " 38   34\n",
      " 39   26\n",
      " 40  155\n"
     ]
    }
   ],
   "source": [
    "# Ridge Regression w/o first col\n",
    "reg = linear_model.RidgeCV()\n",
    "reg.fit(x_train.iloc[:,1:], y_train[\"PRP\"])\n",
    "print(reg.score(x_train.iloc[:,1:], y_train[\"PRP\"]))\n",
    "\n",
    "index = np.arange(len(x_test.iloc[:,0]))\n",
    "columns = [\"Id\"]\n",
    "rows = len(x_test.iloc[:,0])\n",
    "data = np.arange(rows, dtype=int)\n",
    "rr = pd.DataFrame(data, columns=columns)\n",
    "\n",
    "rr[\"PRP\"] = reg.predict(x_test.iloc[:,1:])\n",
    "prp = np.around(scaler_y.inverse_transform(rr)[:,1]).astype(int)\n",
    "prediction[\"PRP\"] = prp\n",
    "print(prediction.to_string(index=False))\n",
    "prediction.to_csv(\"rr_scaled_wo_results.csv\", index=False)\n"
   ]
  },
  {
   "cell_type": "code",
   "execution_count": 103,
   "metadata": {},
   "outputs": [
    {
     "name": "stdout",
     "output_type": "stream",
     "text": [
      "0.8843057292359112\n",
      " Id  PRP\n",
      "  0   93\n",
      "  1  201\n",
      "  2   29\n",
      "  3  429\n",
      "  4   40\n",
      "  5    5\n",
      "  6   71\n",
      "  7  -15\n",
      "  8   57\n",
      "  9   -1\n",
      " 10  167\n",
      " 11    3\n",
      " 12  300\n",
      " 13   26\n",
      " 14  185\n",
      " 15   15\n",
      " 16   22\n",
      " 17   22\n",
      " 18   15\n",
      " 19  168\n",
      " 20   77\n",
      " 21  -14\n",
      " 22   54\n",
      " 23   23\n",
      " 24  200\n",
      " 25  132\n",
      " 26   87\n",
      " 27  460\n",
      " 28  -13\n",
      " 29  356\n",
      " 30  148\n",
      " 31    6\n",
      " 32   65\n",
      " 33  204\n",
      " 34   61\n",
      " 35  678\n",
      " 36    5\n",
      " 37  460\n",
      " 38   25\n",
      " 39   19\n",
      " 40  148\n"
     ]
    }
   ],
   "source": [
    "# Ridge Regression\n",
    "reg = linear_model.RidgeCV(alphas=np.arange(1,2,50000), fit_intercept=True)\n",
    "reg.fit(x_train, y_train[\"PRP\"])\n",
    "print(reg.score(x_train, y_train[\"PRP\"]))\n",
    "\n",
    "index = np.arange(len(x_test.iloc[:,0]))\n",
    "columns = [\"Id\"]\n",
    "rows = len(x_test.iloc[:,0])\n",
    "data = np.arange(rows, dtype=int)\n",
    "rr = pd.DataFrame(data, columns=columns)\n",
    "\n",
    "rr[\"PRP\"] = reg.predict(x_test)\n",
    "prp = np.around(scaler_y.inverse_transform(rr)[:,1]).astype(int)\n",
    "prediction[\"PRP\"] = prp\n",
    "print(prediction.to_string(index=False))\n",
    "prediction.to_csv(\"rr_scaled_results.csv\", index=False)\n"
   ]
  },
  {
   "cell_type": "code",
   "execution_count": 154,
   "metadata": {},
   "outputs": [
    {
     "name": "stdout",
     "output_type": "stream",
     "text": [
      "0.9786730023360425\n",
      " Id  PRP\n",
      "  0   37\n",
      "  1  122\n",
      "  2   16\n",
      "  3  375\n",
      "  4   55\n",
      "  5   18\n",
      "  6   56\n",
      "  7   26\n",
      "  8   54\n",
      "  9   34\n",
      " 10   51\n",
      " 11   18\n",
      " 12  314\n",
      " 13   57\n",
      " 14  164\n",
      " 15   26\n",
      " 16   23\n",
      " 17   54\n",
      " 18   31\n",
      " 19  148\n",
      " 20   85\n",
      " 21   17\n",
      " 22   53\n",
      " 23   17\n",
      " 24  122\n",
      " 25  114\n",
      " 26   62\n",
      " 27  498\n",
      " 28   26\n",
      " 29  193\n",
      " 30  167\n",
      " 31   17\n",
      " 32   69\n",
      " 33  175\n",
      " 34   39\n",
      " 35  756\n",
      " 36   19\n",
      " 37  498\n",
      " 38   28\n",
      " 39   33\n",
      " 40  167\n"
     ]
    }
   ],
   "source": [
    "# rfr\n",
    "from sklearn.ensemble import RandomForestRegressor\n",
    "reg = RandomForestRegressor(n_estimators=100, max_depth=10)\n",
    "reg.fit(x_train, y_train[\"PRP\"])\n",
    "\n",
    "print(reg.score(x_train, y_train[\"PRP\"]))\n",
    "\n",
    "index = np.arange(len(x_test.iloc[:,0]))\n",
    "columns = [\"Id\"]\n",
    "rows = len(x_test.iloc[:,0])\n",
    "data = scaled_id[:rows]\n",
    "\n",
    "rr = pd.DataFrame(data, columns=columns)\n",
    "\n",
    "rr[\"PRP\"] = reg.predict(x_test)\n",
    "prp = np.around(scaler_y.inverse_transform(rr)[:,1]).astype(int)\n",
    "prediction[\"PRP\"] = prp\n",
    "print(prediction.to_string(index=False))\n",
    "prediction.to_csv(\"rfr_scaled_results.csv\", index=False)"
   ]
  },
  {
   "cell_type": "code",
   "execution_count": null,
   "metadata": {},
   "outputs": [],
   "source": [
    "# Bayesian ridge regression\n",
    "reg = linear_model.BayesianRidge(compute_score=True)\n",
    "reg.fit(x_train, y_train[\"PRP\"])\n",
    "print(reg.score(x_train, y_train[\"PRP\"]))\n",
    "\n",
    "prediction[\"PRP\"] = np.around(reg.predict(x_test)).astype(int)\n",
    "print(prediction.to_string(index=False))\n",
    "prediction.to_csv(\"brr_results.csv\", index=False)"
   ]
  },
  {
   "cell_type": "code",
   "execution_count": 49,
   "metadata": {},
   "outputs": [
    {
     "name": "stdout",
     "output_type": "stream",
     "text": [
      " Id  PRP\n",
      "  0   19\n",
      "  1  204\n",
      "  2   34\n",
      "  3  224\n",
      "  4   63\n",
      "  5   19\n",
      "  6  117\n",
      "  7    6\n",
      "  8   63\n",
      "  9   11\n",
      " 10   11\n",
      " 11   13\n",
      " 12  324\n",
      " 13   46\n",
      " 14  204\n",
      " 15   46\n",
      " 16   36\n",
      " 17   46\n",
      " 18    6\n",
      " 19  224\n",
      " 20   63\n",
      " 21    6\n",
      " 22   63\n",
      " 23   36\n",
      " 24  204\n",
      " 25  150\n",
      " 26  117\n",
      " 27  456\n",
      " 28    6\n",
      " 29   20\n",
      " 30   96\n",
      " 31    6\n",
      " 32   63\n",
      " 33  204\n",
      " 34   43\n",
      " 35  539\n",
      " 36    6\n",
      " 37  456\n",
      " 38   49\n",
      " 39   46\n",
      " 40   96\n"
     ]
    }
   ],
   "source": [
    "reg = linear_model.LassoCV(cv=5)\n",
    "reg.fit(x_train, y_train[\"PRP\"])\n",
    "\n",
    "a = np.around(reg.predict(x_test)).astype(int)\n",
    "prediction[\"PRP\"] = a.clip(min=6)\n",
    "print(prediction.to_string(index=False))\n",
    "prediction.to_csv(\"lasso_results.csv\", index=False)\n"
   ]
  },
  {
   "cell_type": "code",
   "execution_count": null,
   "metadata": {},
   "outputs": [],
   "source": [
    "reg = linear_model.ElasticNet()\n",
    "reg.fit(x_train, y_train[\"PRP\"])\n",
    "\n",
    "prediction[\"PRP\"] = np.around(reg.predict(x_test)).astype(int)\n",
    "print(prediction.to_string(index=False))\n",
    "prediction.to_csv(\"mtl_results.csv\", index=False)\n"
   ]
  },
  {
   "cell_type": "code",
   "execution_count": null,
   "metadata": {},
   "outputs": [],
   "source": [
    "from sklearn.svm import SVR\n",
    "svr_lin = SVR(kernel='linear', C=100, gamma='auto')\n",
    "svr_lin.fit(x_train, y_train[\"PRP\"])\n",
    "print(svr_lin.predict(x_test))\n",
    "\n",
    "#prediction.to_csv(\"linearSVR_results.csv\", index=False)"
   ]
  }
 ],
 "metadata": {
  "kernelspec": {
   "display_name": "Python 3",
   "language": "python",
   "name": "python3"
  },
  "language_info": {
   "codemirror_mode": {
    "name": "ipython",
    "version": 3
   },
   "file_extension": ".py",
   "mimetype": "text/x-python",
   "name": "python",
   "nbconvert_exporter": "python",
   "pygments_lexer": "ipython3",
   "version": "3.7.1"
  }
 },
 "nbformat": 4,
 "nbformat_minor": 2
}
